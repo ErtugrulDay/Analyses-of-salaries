{
 "cells": [
  {
   "attachments": {},
   "cell_type": "markdown",
   "id": "284bc50d",
   "metadata": {},
   "source": [
    "Veri setini yıl,ülke ve deneyim seviyelerine göre incelemeye çalıştım."
   ]
  },
  {
   "cell_type": "code",
   "execution_count": 262,
   "id": "c9f350a0",
   "metadata": {},
   "outputs": [],
   "source": [
    "import pandas as pd\n",
    "import numpy as np\n",
    "import matplotlib.pyplot as plt\n",
    "import seaborn as sns\n"
   ]
  },
  {
   "cell_type": "code",
   "execution_count": 263,
   "id": "18bfbfb6",
   "metadata": {},
   "outputs": [],
   "source": [
    "df=pd.read_csv(r\"C:/Users/Ertuğrul/Desktop/staj/anaylsisofsalaries/ds_salaries.csv\")"
   ]
  },
  {
   "cell_type": "code",
   "execution_count": 264,
   "id": "dbf37473",
   "metadata": {},
   "outputs": [
    {
     "name": "stdout",
     "output_type": "stream",
     "text": [
      "<class 'pandas.core.frame.DataFrame'>\n",
      "RangeIndex: 607 entries, 0 to 606\n",
      "Data columns (total 12 columns):\n",
      " #   Column              Non-Null Count  Dtype \n",
      "---  ------              --------------  ----- \n",
      " 0   Unnamed: 0          607 non-null    int64 \n",
      " 1   work_year           607 non-null    int64 \n",
      " 2   experience_level    607 non-null    object\n",
      " 3   employment_type     607 non-null    object\n",
      " 4   job_title           607 non-null    object\n",
      " 5   salary              607 non-null    int64 \n",
      " 6   salary_currency     607 non-null    object\n",
      " 7   salary_in_usd       607 non-null    int64 \n",
      " 8   employee_residence  607 non-null    object\n",
      " 9   remote_ratio        607 non-null    int64 \n",
      " 10  company_location    607 non-null    object\n",
      " 11  company_size        607 non-null    object\n",
      "dtypes: int64(5), object(7)\n",
      "memory usage: 57.0+ KB\n"
     ]
    }
   ],
   "source": [
    "df.info()"
   ]
  },
  {
   "cell_type": "code",
   "execution_count": 265,
   "metadata": {},
   "outputs": [
    {
     "data": {
      "text/html": [
       "<div>\n",
       "<style scoped>\n",
       "    .dataframe tbody tr th:only-of-type {\n",
       "        vertical-align: middle;\n",
       "    }\n",
       "\n",
       "    .dataframe tbody tr th {\n",
       "        vertical-align: top;\n",
       "    }\n",
       "\n",
       "    .dataframe thead th {\n",
       "        text-align: right;\n",
       "    }\n",
       "</style>\n",
       "<table border=\"1\" class=\"dataframe\">\n",
       "  <thead>\n",
       "    <tr style=\"text-align: right;\">\n",
       "      <th></th>\n",
       "      <th>Unnamed: 0</th>\n",
       "      <th>work_year</th>\n",
       "      <th>experience_level</th>\n",
       "      <th>employment_type</th>\n",
       "      <th>job_title</th>\n",
       "      <th>salary</th>\n",
       "      <th>salary_currency</th>\n",
       "      <th>salary_in_usd</th>\n",
       "      <th>employee_residence</th>\n",
       "      <th>remote_ratio</th>\n",
       "      <th>company_location</th>\n",
       "      <th>company_size</th>\n",
       "    </tr>\n",
       "  </thead>\n",
       "  <tbody>\n",
       "    <tr>\n",
       "      <th>0</th>\n",
       "      <td>0</td>\n",
       "      <td>2020</td>\n",
       "      <td>MI</td>\n",
       "      <td>FT</td>\n",
       "      <td>Data Scientist</td>\n",
       "      <td>70000</td>\n",
       "      <td>EUR</td>\n",
       "      <td>79833</td>\n",
       "      <td>DE</td>\n",
       "      <td>0</td>\n",
       "      <td>DE</td>\n",
       "      <td>L</td>\n",
       "    </tr>\n",
       "    <tr>\n",
       "      <th>1</th>\n",
       "      <td>1</td>\n",
       "      <td>2020</td>\n",
       "      <td>SE</td>\n",
       "      <td>FT</td>\n",
       "      <td>Machine Learning Scientist</td>\n",
       "      <td>260000</td>\n",
       "      <td>USD</td>\n",
       "      <td>260000</td>\n",
       "      <td>JP</td>\n",
       "      <td>0</td>\n",
       "      <td>JP</td>\n",
       "      <td>S</td>\n",
       "    </tr>\n",
       "    <tr>\n",
       "      <th>2</th>\n",
       "      <td>2</td>\n",
       "      <td>2020</td>\n",
       "      <td>SE</td>\n",
       "      <td>FT</td>\n",
       "      <td>Big Data Engineer</td>\n",
       "      <td>85000</td>\n",
       "      <td>GBP</td>\n",
       "      <td>109024</td>\n",
       "      <td>GB</td>\n",
       "      <td>50</td>\n",
       "      <td>GB</td>\n",
       "      <td>M</td>\n",
       "    </tr>\n",
       "    <tr>\n",
       "      <th>3</th>\n",
       "      <td>3</td>\n",
       "      <td>2020</td>\n",
       "      <td>MI</td>\n",
       "      <td>FT</td>\n",
       "      <td>Product Data Analyst</td>\n",
       "      <td>20000</td>\n",
       "      <td>USD</td>\n",
       "      <td>20000</td>\n",
       "      <td>HN</td>\n",
       "      <td>0</td>\n",
       "      <td>HN</td>\n",
       "      <td>S</td>\n",
       "    </tr>\n",
       "    <tr>\n",
       "      <th>4</th>\n",
       "      <td>4</td>\n",
       "      <td>2020</td>\n",
       "      <td>SE</td>\n",
       "      <td>FT</td>\n",
       "      <td>Machine Learning Engineer</td>\n",
       "      <td>150000</td>\n",
       "      <td>USD</td>\n",
       "      <td>150000</td>\n",
       "      <td>US</td>\n",
       "      <td>50</td>\n",
       "      <td>US</td>\n",
       "      <td>L</td>\n",
       "    </tr>\n",
       "    <tr>\n",
       "      <th>5</th>\n",
       "      <td>5</td>\n",
       "      <td>2020</td>\n",
       "      <td>EN</td>\n",
       "      <td>FT</td>\n",
       "      <td>Data Analyst</td>\n",
       "      <td>72000</td>\n",
       "      <td>USD</td>\n",
       "      <td>72000</td>\n",
       "      <td>US</td>\n",
       "      <td>100</td>\n",
       "      <td>US</td>\n",
       "      <td>L</td>\n",
       "    </tr>\n",
       "    <tr>\n",
       "      <th>6</th>\n",
       "      <td>6</td>\n",
       "      <td>2020</td>\n",
       "      <td>SE</td>\n",
       "      <td>FT</td>\n",
       "      <td>Lead Data Scientist</td>\n",
       "      <td>190000</td>\n",
       "      <td>USD</td>\n",
       "      <td>190000</td>\n",
       "      <td>US</td>\n",
       "      <td>100</td>\n",
       "      <td>US</td>\n",
       "      <td>S</td>\n",
       "    </tr>\n",
       "    <tr>\n",
       "      <th>7</th>\n",
       "      <td>7</td>\n",
       "      <td>2020</td>\n",
       "      <td>MI</td>\n",
       "      <td>FT</td>\n",
       "      <td>Data Scientist</td>\n",
       "      <td>11000000</td>\n",
       "      <td>HUF</td>\n",
       "      <td>35735</td>\n",
       "      <td>HU</td>\n",
       "      <td>50</td>\n",
       "      <td>HU</td>\n",
       "      <td>L</td>\n",
       "    </tr>\n",
       "    <tr>\n",
       "      <th>8</th>\n",
       "      <td>8</td>\n",
       "      <td>2020</td>\n",
       "      <td>MI</td>\n",
       "      <td>FT</td>\n",
       "      <td>Business Data Analyst</td>\n",
       "      <td>135000</td>\n",
       "      <td>USD</td>\n",
       "      <td>135000</td>\n",
       "      <td>US</td>\n",
       "      <td>100</td>\n",
       "      <td>US</td>\n",
       "      <td>L</td>\n",
       "    </tr>\n",
       "    <tr>\n",
       "      <th>9</th>\n",
       "      <td>9</td>\n",
       "      <td>2020</td>\n",
       "      <td>SE</td>\n",
       "      <td>FT</td>\n",
       "      <td>Lead Data Engineer</td>\n",
       "      <td>125000</td>\n",
       "      <td>USD</td>\n",
       "      <td>125000</td>\n",
       "      <td>NZ</td>\n",
       "      <td>50</td>\n",
       "      <td>NZ</td>\n",
       "      <td>S</td>\n",
       "    </tr>\n",
       "    <tr>\n",
       "      <th>10</th>\n",
       "      <td>10</td>\n",
       "      <td>2020</td>\n",
       "      <td>EN</td>\n",
       "      <td>FT</td>\n",
       "      <td>Data Scientist</td>\n",
       "      <td>45000</td>\n",
       "      <td>EUR</td>\n",
       "      <td>51321</td>\n",
       "      <td>FR</td>\n",
       "      <td>0</td>\n",
       "      <td>FR</td>\n",
       "      <td>S</td>\n",
       "    </tr>\n",
       "    <tr>\n",
       "      <th>11</th>\n",
       "      <td>11</td>\n",
       "      <td>2020</td>\n",
       "      <td>MI</td>\n",
       "      <td>FT</td>\n",
       "      <td>Data Scientist</td>\n",
       "      <td>3000000</td>\n",
       "      <td>INR</td>\n",
       "      <td>40481</td>\n",
       "      <td>IN</td>\n",
       "      <td>0</td>\n",
       "      <td>IN</td>\n",
       "      <td>L</td>\n",
       "    </tr>\n",
       "    <tr>\n",
       "      <th>12</th>\n",
       "      <td>12</td>\n",
       "      <td>2020</td>\n",
       "      <td>EN</td>\n",
       "      <td>FT</td>\n",
       "      <td>Data Scientist</td>\n",
       "      <td>35000</td>\n",
       "      <td>EUR</td>\n",
       "      <td>39916</td>\n",
       "      <td>FR</td>\n",
       "      <td>0</td>\n",
       "      <td>FR</td>\n",
       "      <td>M</td>\n",
       "    </tr>\n",
       "    <tr>\n",
       "      <th>13</th>\n",
       "      <td>13</td>\n",
       "      <td>2020</td>\n",
       "      <td>MI</td>\n",
       "      <td>FT</td>\n",
       "      <td>Lead Data Analyst</td>\n",
       "      <td>87000</td>\n",
       "      <td>USD</td>\n",
       "      <td>87000</td>\n",
       "      <td>US</td>\n",
       "      <td>100</td>\n",
       "      <td>US</td>\n",
       "      <td>L</td>\n",
       "    </tr>\n",
       "    <tr>\n",
       "      <th>14</th>\n",
       "      <td>14</td>\n",
       "      <td>2020</td>\n",
       "      <td>MI</td>\n",
       "      <td>FT</td>\n",
       "      <td>Data Analyst</td>\n",
       "      <td>85000</td>\n",
       "      <td>USD</td>\n",
       "      <td>85000</td>\n",
       "      <td>US</td>\n",
       "      <td>100</td>\n",
       "      <td>US</td>\n",
       "      <td>L</td>\n",
       "    </tr>\n",
       "    <tr>\n",
       "      <th>15</th>\n",
       "      <td>15</td>\n",
       "      <td>2020</td>\n",
       "      <td>MI</td>\n",
       "      <td>FT</td>\n",
       "      <td>Data Analyst</td>\n",
       "      <td>8000</td>\n",
       "      <td>USD</td>\n",
       "      <td>8000</td>\n",
       "      <td>PK</td>\n",
       "      <td>50</td>\n",
       "      <td>PK</td>\n",
       "      <td>L</td>\n",
       "    </tr>\n",
       "    <tr>\n",
       "      <th>16</th>\n",
       "      <td>16</td>\n",
       "      <td>2020</td>\n",
       "      <td>EN</td>\n",
       "      <td>FT</td>\n",
       "      <td>Data Engineer</td>\n",
       "      <td>4450000</td>\n",
       "      <td>JPY</td>\n",
       "      <td>41689</td>\n",
       "      <td>JP</td>\n",
       "      <td>100</td>\n",
       "      <td>JP</td>\n",
       "      <td>S</td>\n",
       "    </tr>\n",
       "    <tr>\n",
       "      <th>17</th>\n",
       "      <td>17</td>\n",
       "      <td>2020</td>\n",
       "      <td>SE</td>\n",
       "      <td>FT</td>\n",
       "      <td>Big Data Engineer</td>\n",
       "      <td>100000</td>\n",
       "      <td>EUR</td>\n",
       "      <td>114047</td>\n",
       "      <td>PL</td>\n",
       "      <td>100</td>\n",
       "      <td>GB</td>\n",
       "      <td>S</td>\n",
       "    </tr>\n",
       "    <tr>\n",
       "      <th>18</th>\n",
       "      <td>18</td>\n",
       "      <td>2020</td>\n",
       "      <td>EN</td>\n",
       "      <td>FT</td>\n",
       "      <td>Data Science Consultant</td>\n",
       "      <td>423000</td>\n",
       "      <td>INR</td>\n",
       "      <td>5707</td>\n",
       "      <td>IN</td>\n",
       "      <td>50</td>\n",
       "      <td>IN</td>\n",
       "      <td>M</td>\n",
       "    </tr>\n",
       "    <tr>\n",
       "      <th>19</th>\n",
       "      <td>19</td>\n",
       "      <td>2020</td>\n",
       "      <td>MI</td>\n",
       "      <td>FT</td>\n",
       "      <td>Lead Data Engineer</td>\n",
       "      <td>56000</td>\n",
       "      <td>USD</td>\n",
       "      <td>56000</td>\n",
       "      <td>PT</td>\n",
       "      <td>100</td>\n",
       "      <td>US</td>\n",
       "      <td>M</td>\n",
       "    </tr>\n",
       "  </tbody>\n",
       "</table>\n",
       "</div>"
      ],
      "text/plain": [
       "    Unnamed: 0  work_year experience_level employment_type  \\\n",
       "0            0       2020               MI              FT   \n",
       "1            1       2020               SE              FT   \n",
       "2            2       2020               SE              FT   \n",
       "3            3       2020               MI              FT   \n",
       "4            4       2020               SE              FT   \n",
       "5            5       2020               EN              FT   \n",
       "6            6       2020               SE              FT   \n",
       "7            7       2020               MI              FT   \n",
       "8            8       2020               MI              FT   \n",
       "9            9       2020               SE              FT   \n",
       "10          10       2020               EN              FT   \n",
       "11          11       2020               MI              FT   \n",
       "12          12       2020               EN              FT   \n",
       "13          13       2020               MI              FT   \n",
       "14          14       2020               MI              FT   \n",
       "15          15       2020               MI              FT   \n",
       "16          16       2020               EN              FT   \n",
       "17          17       2020               SE              FT   \n",
       "18          18       2020               EN              FT   \n",
       "19          19       2020               MI              FT   \n",
       "\n",
       "                     job_title    salary salary_currency  salary_in_usd  \\\n",
       "0               Data Scientist     70000             EUR          79833   \n",
       "1   Machine Learning Scientist    260000             USD         260000   \n",
       "2            Big Data Engineer     85000             GBP         109024   \n",
       "3         Product Data Analyst     20000             USD          20000   \n",
       "4    Machine Learning Engineer    150000             USD         150000   \n",
       "5                 Data Analyst     72000             USD          72000   \n",
       "6          Lead Data Scientist    190000             USD         190000   \n",
       "7               Data Scientist  11000000             HUF          35735   \n",
       "8        Business Data Analyst    135000             USD         135000   \n",
       "9           Lead Data Engineer    125000             USD         125000   \n",
       "10              Data Scientist     45000             EUR          51321   \n",
       "11              Data Scientist   3000000             INR          40481   \n",
       "12              Data Scientist     35000             EUR          39916   \n",
       "13           Lead Data Analyst     87000             USD          87000   \n",
       "14                Data Analyst     85000             USD          85000   \n",
       "15                Data Analyst      8000             USD           8000   \n",
       "16               Data Engineer   4450000             JPY          41689   \n",
       "17           Big Data Engineer    100000             EUR         114047   \n",
       "18     Data Science Consultant    423000             INR           5707   \n",
       "19          Lead Data Engineer     56000             USD          56000   \n",
       "\n",
       "   employee_residence  remote_ratio company_location company_size  \n",
       "0                  DE             0               DE            L  \n",
       "1                  JP             0               JP            S  \n",
       "2                  GB            50               GB            M  \n",
       "3                  HN             0               HN            S  \n",
       "4                  US            50               US            L  \n",
       "5                  US           100               US            L  \n",
       "6                  US           100               US            S  \n",
       "7                  HU            50               HU            L  \n",
       "8                  US           100               US            L  \n",
       "9                  NZ            50               NZ            S  \n",
       "10                 FR             0               FR            S  \n",
       "11                 IN             0               IN            L  \n",
       "12                 FR             0               FR            M  \n",
       "13                 US           100               US            L  \n",
       "14                 US           100               US            L  \n",
       "15                 PK            50               PK            L  \n",
       "16                 JP           100               JP            S  \n",
       "17                 PL           100               GB            S  \n",
       "18                 IN            50               IN            M  \n",
       "19                 PT           100               US            M  "
      ]
     },
     "execution_count": 265,
     "metadata": {},
     "output_type": "execute_result"
    }
   ],
   "source": [
    "df.head(20)"
   ]
  },
  {
   "attachments": {},
   "cell_type": "markdown",
   "id": "2148b823",
   "metadata": {},
   "source": [
    "Veri setinde basitçe çalışacağımız alanların dışında kalan sütunları dışarıya çıkarıyoruz."
   ]
  },
  {
   "cell_type": "code",
   "execution_count": 266,
   "id": "df8a6159",
   "metadata": {},
   "outputs": [
    {
     "data": {
      "text/html": [
       "<div>\n",
       "<style scoped>\n",
       "    .dataframe tbody tr th:only-of-type {\n",
       "        vertical-align: middle;\n",
       "    }\n",
       "\n",
       "    .dataframe tbody tr th {\n",
       "        vertical-align: top;\n",
       "    }\n",
       "\n",
       "    .dataframe thead th {\n",
       "        text-align: right;\n",
       "    }\n",
       "</style>\n",
       "<table border=\"1\" class=\"dataframe\">\n",
       "  <thead>\n",
       "    <tr style=\"text-align: right;\">\n",
       "      <th></th>\n",
       "      <th>work_year</th>\n",
       "      <th>experience_level</th>\n",
       "      <th>salary_in_usd</th>\n",
       "      <th>employee_residence</th>\n",
       "    </tr>\n",
       "  </thead>\n",
       "  <tbody>\n",
       "    <tr>\n",
       "      <th>0</th>\n",
       "      <td>2020</td>\n",
       "      <td>MI</td>\n",
       "      <td>79833</td>\n",
       "      <td>DE</td>\n",
       "    </tr>\n",
       "    <tr>\n",
       "      <th>1</th>\n",
       "      <td>2020</td>\n",
       "      <td>SE</td>\n",
       "      <td>260000</td>\n",
       "      <td>JP</td>\n",
       "    </tr>\n",
       "    <tr>\n",
       "      <th>2</th>\n",
       "      <td>2020</td>\n",
       "      <td>SE</td>\n",
       "      <td>109024</td>\n",
       "      <td>GB</td>\n",
       "    </tr>\n",
       "    <tr>\n",
       "      <th>3</th>\n",
       "      <td>2020</td>\n",
       "      <td>MI</td>\n",
       "      <td>20000</td>\n",
       "      <td>HN</td>\n",
       "    </tr>\n",
       "    <tr>\n",
       "      <th>4</th>\n",
       "      <td>2020</td>\n",
       "      <td>SE</td>\n",
       "      <td>150000</td>\n",
       "      <td>US</td>\n",
       "    </tr>\n",
       "    <tr>\n",
       "      <th>...</th>\n",
       "      <td>...</td>\n",
       "      <td>...</td>\n",
       "      <td>...</td>\n",
       "      <td>...</td>\n",
       "    </tr>\n",
       "    <tr>\n",
       "      <th>602</th>\n",
       "      <td>2022</td>\n",
       "      <td>SE</td>\n",
       "      <td>154000</td>\n",
       "      <td>US</td>\n",
       "    </tr>\n",
       "    <tr>\n",
       "      <th>603</th>\n",
       "      <td>2022</td>\n",
       "      <td>SE</td>\n",
       "      <td>126000</td>\n",
       "      <td>US</td>\n",
       "    </tr>\n",
       "    <tr>\n",
       "      <th>604</th>\n",
       "      <td>2022</td>\n",
       "      <td>SE</td>\n",
       "      <td>129000</td>\n",
       "      <td>US</td>\n",
       "    </tr>\n",
       "    <tr>\n",
       "      <th>605</th>\n",
       "      <td>2022</td>\n",
       "      <td>SE</td>\n",
       "      <td>150000</td>\n",
       "      <td>US</td>\n",
       "    </tr>\n",
       "    <tr>\n",
       "      <th>606</th>\n",
       "      <td>2022</td>\n",
       "      <td>MI</td>\n",
       "      <td>200000</td>\n",
       "      <td>IN</td>\n",
       "    </tr>\n",
       "  </tbody>\n",
       "</table>\n",
       "<p>607 rows × 4 columns</p>\n",
       "</div>"
      ],
      "text/plain": [
       "     work_year experience_level  salary_in_usd employee_residence\n",
       "0         2020               MI          79833                 DE\n",
       "1         2020               SE         260000                 JP\n",
       "2         2020               SE         109024                 GB\n",
       "3         2020               MI          20000                 HN\n",
       "4         2020               SE         150000                 US\n",
       "..         ...              ...            ...                ...\n",
       "602       2022               SE         154000                 US\n",
       "603       2022               SE         126000                 US\n",
       "604       2022               SE         129000                 US\n",
       "605       2022               SE         150000                 US\n",
       "606       2022               MI         200000                 IN\n",
       "\n",
       "[607 rows x 4 columns]"
      ]
     },
     "execution_count": 266,
     "metadata": {},
     "output_type": "execute_result"
    }
   ],
   "source": [
    "df2=df.drop([\"Unnamed: 0\",\"employment_type\",\"job_title\",\"salary_currency\",\"remote_ratio\",\"company_size\",\"company_location\",\"salary\"],axis=1)\n",
    "df2\n"
   ]
  },
  {
   "attachments": {},
   "cell_type": "markdown",
   "id": "3cc598f6",
   "metadata": {},
   "source": [
    "Veri setindeki değerlerin analizini yaparken korelasyon kullanmayacağım ancak yine de veriler arasında herhangi bir güçlü doğrusal ilişki olup olmadığına bakmak istedim, beklenildiği üzere yok.(Unnamed:0 ve work_year sütunlarını saymazsak çünkü unnamed sütunu da index=0 gibi davranıyor)"
   ]
  },
  {
   "cell_type": "code",
   "execution_count": 267,
   "id": "1145b24a",
   "metadata": {},
   "outputs": [
    {
     "name": "stderr",
     "output_type": "stream",
     "text": [
      "C:\\Users\\Ertuğrul\\AppData\\Local\\Temp\\ipykernel_12216\\1134722465.py:1: FutureWarning: The default value of numeric_only in DataFrame.corr is deprecated. In a future version, it will default to False. Select only valid columns or specify the value of numeric_only to silence this warning.\n",
      "  df.corr()\n"
     ]
    },
    {
     "data": {
      "text/html": [
       "<div>\n",
       "<style scoped>\n",
       "    .dataframe tbody tr th:only-of-type {\n",
       "        vertical-align: middle;\n",
       "    }\n",
       "\n",
       "    .dataframe tbody tr th {\n",
       "        vertical-align: top;\n",
       "    }\n",
       "\n",
       "    .dataframe thead th {\n",
       "        text-align: right;\n",
       "    }\n",
       "</style>\n",
       "<table border=\"1\" class=\"dataframe\">\n",
       "  <thead>\n",
       "    <tr style=\"text-align: right;\">\n",
       "      <th></th>\n",
       "      <th>Unnamed: 0</th>\n",
       "      <th>work_year</th>\n",
       "      <th>salary</th>\n",
       "      <th>salary_in_usd</th>\n",
       "      <th>remote_ratio</th>\n",
       "    </tr>\n",
       "  </thead>\n",
       "  <tbody>\n",
       "    <tr>\n",
       "      <th>Unnamed: 0</th>\n",
       "      <td>1.000000</td>\n",
       "      <td>0.886550</td>\n",
       "      <td>-0.096250</td>\n",
       "      <td>0.167025</td>\n",
       "      <td>0.095000</td>\n",
       "    </tr>\n",
       "    <tr>\n",
       "      <th>work_year</th>\n",
       "      <td>0.886550</td>\n",
       "      <td>1.000000</td>\n",
       "      <td>-0.087577</td>\n",
       "      <td>0.170493</td>\n",
       "      <td>0.076314</td>\n",
       "    </tr>\n",
       "    <tr>\n",
       "      <th>salary</th>\n",
       "      <td>-0.096250</td>\n",
       "      <td>-0.087577</td>\n",
       "      <td>1.000000</td>\n",
       "      <td>-0.083906</td>\n",
       "      <td>-0.014608</td>\n",
       "    </tr>\n",
       "    <tr>\n",
       "      <th>salary_in_usd</th>\n",
       "      <td>0.167025</td>\n",
       "      <td>0.170493</td>\n",
       "      <td>-0.083906</td>\n",
       "      <td>1.000000</td>\n",
       "      <td>0.132122</td>\n",
       "    </tr>\n",
       "    <tr>\n",
       "      <th>remote_ratio</th>\n",
       "      <td>0.095000</td>\n",
       "      <td>0.076314</td>\n",
       "      <td>-0.014608</td>\n",
       "      <td>0.132122</td>\n",
       "      <td>1.000000</td>\n",
       "    </tr>\n",
       "  </tbody>\n",
       "</table>\n",
       "</div>"
      ],
      "text/plain": [
       "               Unnamed: 0  work_year    salary  salary_in_usd  remote_ratio\n",
       "Unnamed: 0       1.000000   0.886550 -0.096250       0.167025      0.095000\n",
       "work_year        0.886550   1.000000 -0.087577       0.170493      0.076314\n",
       "salary          -0.096250  -0.087577  1.000000      -0.083906     -0.014608\n",
       "salary_in_usd    0.167025   0.170493 -0.083906       1.000000      0.132122\n",
       "remote_ratio     0.095000   0.076314 -0.014608       0.132122      1.000000"
      ]
     },
     "execution_count": 267,
     "metadata": {},
     "output_type": "execute_result"
    }
   ],
   "source": [
    "df.corr()"
   ]
  },
  {
   "cell_type": "code",
   "execution_count": 268,
   "id": "c6186907",
   "metadata": {},
   "outputs": [
    {
     "data": {
      "text/plain": [
       "SE    280\n",
       "MI    213\n",
       "EN     88\n",
       "EX     26\n",
       "Name: experience_level, dtype: int64"
      ]
     },
     "execution_count": 268,
     "metadata": {},
     "output_type": "execute_result"
    }
   ],
   "source": [
    "# uniqueArr=dfNew[\"experience_level\"].unique()\n",
    "# print(uniqueArr)\n",
    "# arr1=[]\n",
    "# for i in range(0,len(uniqueArr)):\n",
    "#     arr1.append([uniqueArr[i],dfNew[\"experience_level\"].value_counts()[uniqueArr[i]]])\n",
    "# print(arr1)\n",
    "\n",
    "# print(arr1[0])\n",
    "experience_levels_count=df[\"experience_level\"].value_counts()\n",
    "experience_levels_count"
   ]
  },
  {
   "cell_type": "code",
   "execution_count": 269,
   "id": "c350da97",
   "metadata": {},
   "outputs": [
    {
     "data": {
      "text/plain": [
       "<matplotlib.legend.Legend at 0x22e44cc3bb0>"
      ]
     },
     "execution_count": 269,
     "metadata": {},
     "output_type": "execute_result"
    },
    {
     "data": {
      "image/png": "[encoded data removed]",
      "text/plain": [
       "<Figure size 640x480 with 1 Axes>"
      ]
     },
     "metadata": {},
     "output_type": "display_data"
    }
   ],
   "source": [
    "#Experience_level'e göre dağılım\n",
    "experience_level_type=[\"SE\",\"MI\",\"EN\",\"EX\"]\n",
    "plt.pie(experience_levels_count,labels=experience_level_type,shadow=True,explode=(0.05,0.05,0.05,0.05),autopct=\"%.1f%%\")\n",
    "plt.legend(loc=\"upper right\",bbox_to_anchor=(1.2,1.2))\n"
   ]
  },
  {
   "attachments": {},
   "cell_type": "markdown",
   "id": "774b094f",
   "metadata": {},
   "source": [
    "Ortalamalara baktığımızda tüm şirketlerde çalışanların %81.2 gibi büyük kısmını orta(MI) ve orta üst(SE) seviyeler oluşturmaktadır.Şirketlerdeki çalışanların seviyesini biz tahmin etsek genel olarak buna yakın sonuçları tahmin ederdik."
   ]
  },
  {
   "cell_type": "code",
   "execution_count": 270,
   "id": "cb2a1794",
   "metadata": {},
   "outputs": [
    {
     "data": {
      "text/plain": [
       "Text(0, 0.5, 'Salary mean')"
      ]
     },
     "execution_count": 270,
     "metadata": {},
     "output_type": "execute_result"
    },
    {
     "data": {
      "image/png": "[encoded data removed]",
      "text/plain": [
       "<Figure size 640x480 with 1 Axes>"
      ]
     },
     "metadata": {},
     "output_type": "display_data"
    }
   ],
   "source": [
    "salary_mean=df.groupby('experience_level').agg({'salary_in_usd' : 'mean'})\n",
    "salary_mean\n",
    "experience_level=salary_mean.index.get_level_values(\"experience_level\")\n",
    "\n",
    "\n",
    "\n",
    "#Experience level'a göre ortalama maaş\n",
    "plt.figure()\n",
    "sns.barplot(x=\"experience_level\", y='salary_in_usd', data=df)\n",
    "plt.ylabel(\"Salary mean\")\n",
    "\n",
    "\n"
   ]
  },
  {
   "attachments": {},
   "cell_type": "markdown",
   "id": "e6cc6bd6",
   "metadata": {},
   "source": [
    "Ortalama maaş konusunda da beklenen aşağı yukarı böyle oluşurdu.En üst seviye ile ilk seviye arası 3kat, ilk seviye ve üçüncü seviye arası 2kat maaş farkı oluşmuş."
   ]
  },
  {
   "cell_type": "code",
   "execution_count": 271,
   "id": "4ee92e2c",
   "metadata": {},
   "outputs": [
    {
     "name": "stdout",
     "output_type": "stream",
     "text": [
      "                            salary_in_usd\n",
      "work_year experience_level               \n",
      "2020      EN                   63648.6000\n",
      "          EX                  202416.5000\n",
      "          MI                   85950.0625\n",
      "          SE                  137240.5000\n"
     ]
    },
    {
     "data": {
      "text/plain": [
       "Text(0.5, 1.0, '2020')"
      ]
     },
     "execution_count": 271,
     "metadata": {},
     "output_type": "execute_result"
    },
    {
     "data": {
      "image/png": "[encoded data removed]",
      "text/plain": [
       "<Figure size 640x480 with 1 Axes>"
      ]
     },
     "metadata": {},
     "output_type": "display_data"
    }
   ],
   "source": [
    "#Experience level'a göre her yılın ortalama maaşlar\n",
    "sm2=df.groupby([\"work_year\",\"experience_level\"]).agg({'salary_in_usd' : 'mean'})\n",
    "sm2\n",
    "sm2=np.array_split(sm2,3)\n",
    "# type(sm2)\n",
    "dFnew=sm2[0]\n",
    "dFnew2=sm2[1]\n",
    "dFnew3=sm2[2]\n",
    "# type(dFnew)\n",
    "print(dFnew) # 2020 yılının ortalama maaşı\n",
    "sns.barplot(x=dFnew.index.get_level_values(\"experience_level\"),y=\"salary_in_usd\",data=dFnew)\n",
    "plt.title(\"2020\")"
   ]
  },
  {
   "cell_type": "code",
   "execution_count": 272,
   "id": "d81a95ca",
   "metadata": {},
   "outputs": [
    {
     "name": "stdout",
     "output_type": "stream",
     "text": [
      "                            salary_in_usd\n",
      "work_year experience_level               \n",
      "2021      EN                 59101.021277\n",
      "          EX                223752.727273\n",
      "          MI                 85490.088889\n",
      "          SE                126596.188406\n"
     ]
    },
    {
     "data": {
      "text/plain": [
       "Text(0.5, 1.0, '2021')"
      ]
     },
     "execution_count": 272,
     "metadata": {},
     "output_type": "execute_result"
    },
    {
     "data": {
      "image/png": "[encoded data removed]",
      "text/plain": [
       "<Figure size 640x480 with 1 Axes>"
      ]
     },
     "metadata": {},
     "output_type": "display_data"
    }
   ],
   "source": [
    "print(dFnew2)\n",
    "sns.barplot(x=dFnew2.index.get_level_values(\"experience_level\"),y=\"salary_in_usd\",data=dFnew2)\n",
    "plt.title(\"2021\")\n",
    "\n",
    "\n"
   ]
  },
  {
   "cell_type": "code",
   "execution_count": 273,
   "id": "336ad0d3",
   "metadata": {},
   "outputs": [
    {
     "name": "stdout",
     "output_type": "stream",
     "text": [
      "                            salary_in_usd\n",
      "work_year experience_level               \n",
      "2022      EN                 65423.428571\n",
      "          EX                178313.846154\n",
      "          MI                 91193.956044\n",
      "          SE                143043.398964\n"
     ]
    },
    {
     "data": {
      "text/plain": [
       "Text(0.5, 1.0, '2022')"
      ]
     },
     "execution_count": 273,
     "metadata": {},
     "output_type": "execute_result"
    },
    {
     "data": {
      "image/png": "[encoded data removed]",
      "text/plain": [
       "<Figure size 640x480 with 1 Axes>"
      ]
     },
     "metadata": {},
     "output_type": "display_data"
    }
   ],
   "source": [
    "print(dFnew3)\n",
    "sns.barplot(x=dFnew3.index.get_level_values(\"experience_level\"),y=\"salary_in_usd\",data=dFnew3)\n",
    "plt.title(\"2022\")"
   ]
  },
  {
   "attachments": {},
   "cell_type": "markdown",
   "id": "7b0d1581",
   "metadata": {},
   "source": [
    "2020,2021,2022 değerlerini tablodan incelediğimzde aralarında çok büyük bir farklar görülmediği gözüküyor ancak tablodan değerleri tek tek incelediğimizde ise ilgi çekici olan durum; 2020 yılında Entry Level ve Senior level maaşlarının 2021 yılından daha yüksek olması, genelde maaşlar yıllar geçtikçe artış gösterme eğilimindedir ancak bu veri setimize göre bu 2 seviye türü çalışanların maaşlarında düşüş gerçekleşmiş.İki sebepten ötürü böyle bir durum oluşmuş olabilir.İlk olarak veri setimizdeki maaş değerlerinin hatalı olması kuvvetli bir ihtimalken ikinci olaraksa sektörde bu yıllardaki yeni mezunların sayısındaki artıştan ötürü rekabetin artmış olması olabilir."
   ]
  },
  {
   "cell_type": "code",
   "execution_count": 274,
   "id": "b2833340",
   "metadata": {},
   "outputs": [
    {
     "name": "stdout",
     "output_type": "stream",
     "text": [
      "2022    318\n",
      "2021    217\n",
      "2020     72\n",
      "Name: work_year, dtype: int64\n"
     ]
    },
    {
     "data": {
      "text/plain": [
       "Text(0.5, 1.0, 'number of employees per year')"
      ]
     },
     "execution_count": 274,
     "metadata": {},
     "output_type": "execute_result"
    },
    {
     "data": {
      "image/png": "[encoded data removed]",
      "text/plain": [
       "<Figure size 640x480 with 1 Axes>"
      ]
     },
     "metadata": {},
     "output_type": "display_data"
    }
   ],
   "source": [
    "\n",
    "work_year_count=df[\"work_year\"].value_counts()\n",
    "print(work_year_count)\n",
    "years=[\"2022\",\"2021\",\"2020\"]\n",
    "work_year_count\n",
    "plt.bar(years,work_year_count)\n",
    "plt.title(\"number of employees per year\")"
   ]
  },
  {
   "cell_type": "code",
   "execution_count": 275,
   "id": "11395d08",
   "metadata": {},
   "outputs": [
    {
     "name": "stdout",
     "output_type": "stream",
     "text": [
      "           salary_in_usd\n",
      "work_year               \n",
      "2020        95813.000000\n",
      "2021        99853.792627\n",
      "2022       124522.006289\n"
     ]
    },
    {
     "data": {
      "text/plain": [
       "Text(0.5, 1.0, 'Average salary by year')"
      ]
     },
     "execution_count": 275,
     "metadata": {},
     "output_type": "execute_result"
    },
    {
     "data": {
      "image/png": "[encoded data removed]",
      "text/plain": [
       "<Figure size 640x480 with 1 Axes>"
      ]
     },
     "metadata": {},
     "output_type": "display_data"
    }
   ],
   "source": [
    "print(df.groupby(\"work_year\").agg({'salary_in_usd' : 'mean'}))\n",
    "\n",
    "\n",
    "sns.barplot(x=\"work_year\",y=\"salary_in_usd\",data=df)\n",
    "plt.title(\"Average salary by year\")\n",
    "\n",
    "\n"
   ]
  },
  {
   "attachments": {},
   "cell_type": "markdown",
   "id": "a0b9f555",
   "metadata": {},
   "source": [
    "verileri aldığımız şirketleri incelediğimizde bu şirketlerde 2020 yılına göre çalışan sayılarında büyük bir artış olduğu gözlenmektedir.Ayrıca ortalama maaş konusunda da beklenildiği üzere artış gözükmektedir."
   ]
  },
  {
   "cell_type": "code",
   "execution_count": 276,
   "id": "b9d7c08e",
   "metadata": {},
   "outputs": [
    {
     "name": "stdout",
     "output_type": "stream",
     "text": [
      "   employee_residence  employee_residence_count\n",
      "0                  US                       332\n",
      "1                  GB                        44\n",
      "2                  IN                        30\n",
      "3                  CA                        29\n",
      "4                  DE                        25\n",
      "5                  FR                        18\n",
      "6                  ES                        15\n",
      "7                  GR                        13\n",
      "8                  JP                         7\n",
      "9                  PT                         6\n",
      "10                 BR                         6\n",
      "11                 PK                         6\n",
      "12                 NL                         5\n",
      "13                 PL                         4\n",
      "14                 IT                         4\n",
      "15                 RU                         4\n",
      "16                 AE                         3\n",
      "17                 AT                         3\n",
      "18                 VN                         3\n",
      "19                 TR                         3\n",
      "20                 AU                         3\n",
      "21                 RO                         2\n",
      "22                 BE                         2\n",
      "23                 SG                         2\n",
      "24                 SI                         2\n",
      "25                 DK                         2\n",
      "26                 HU                         2\n",
      "27                 NG                         2\n",
      "28                 MX                         2\n",
      "29                 BO                         1\n",
      "30                 MY                         1\n",
      "31                 TN                         1\n",
      "32                 IE                         1\n",
      "33                 DZ                         1\n",
      "34                 AR                         1\n",
      "35                 CZ                         1\n",
      "36                 JE                         1\n",
      "37                 LU                         1\n",
      "38                 PR                         1\n",
      "39                 RS                         1\n",
      "40                 EE                         1\n",
      "41                 CL                         1\n",
      "42                 HK                         1\n",
      "43                 KE                         1\n",
      "44                 MD                         1\n",
      "45                 CO                         1\n",
      "46                 IR                         1\n",
      "47                 CN                         1\n",
      "48                 MT                         1\n",
      "49                 UA                         1\n",
      "50                 IQ                         1\n",
      "51                 HN                         1\n",
      "52                 BG                         1\n",
      "53                 HR                         1\n",
      "54                 PH                         1\n",
      "55                 NZ                         1\n",
      "56                 CH                         1\n",
      "<class 'pandas.core.frame.DataFrame'>\n"
     ]
    },
    {
     "data": {
      "text/plain": [
       "<matplotlib.patches.Circle at 0x22e491bb2b0>"
      ]
     },
     "execution_count": 276,
     "metadata": {},
     "output_type": "execute_result"
    },
    {
     "data": {
      "image/png": "[encoded data removed]",
      "text/plain": [
       "<Figure size 640x480 with 1 Axes>"
      ]
     },
     "metadata": {},
     "output_type": "display_data"
    }
   ],
   "source": [
    "employee_residence_count=df[\"employee_residence\"].value_counts()\n",
    "df_erc=employee_residence_count.to_frame().reset_index()\n",
    "df_erc.rename(columns={'employee_residence': 'employee_residence_count'}, inplace=True)\n",
    "df_erc.rename(columns={'index': 'employee_residence'}, inplace=True)\n",
    "\n",
    "# df_erc.reset_index()\n",
    "print(df_erc)\n",
    "print(type(df_erc))\n",
    "\n",
    "\n",
    "# names=list(set(df[\"employee_residence\"]))\n",
    "# print(names)\n",
    "my_circle=plt.Circle((0,0),0.7,color=\"white\")\n",
    "plt.pie(df_erc[\"employee_residence_count\"],labels=df_erc[\"employee_residence\"])\n",
    "p=plt.gcf()\n",
    "p.gca().add_artist(my_circle)\n"
   ]
  },
  {
   "attachments": {},
   "cell_type": "markdown",
   "id": "fe565133",
   "metadata": {},
   "source": [
    "Elimizdeki veri setinde şirketlerde çalışanların neredeyse yarısının Amerikada ikamet ettiği gözükmektedir.Bu sonuçla dünyadaki bu sektörde çalışanların yarısının Amerikada olduğunu söylemek doğru olmaz çünkü elimizdeki veri seti tüm dünyadaki şirketlerde çalışanları kapsamamaktadır.Ayrıca çemberde 1 2 3 gibi ufak değerlerin karışıklık yarattığı da gözükmektedir.Bunun için belki dünya haritası üzerinden sayının artmasına göre rengin tonunun da koyulaşacağı bir görselleştirme tercih edilmesi daha doğru olurdu."
   ]
  },
  {
   "cell_type": "code",
   "execution_count": 277,
   "id": "f002d5b7",
   "metadata": {},
   "outputs": [
    {
     "data": {
      "text/plain": [
       "US    332\n",
       "GB     44\n",
       "IN     30\n",
       "CA     29\n",
       "DE     25\n",
       "FR     18\n",
       "ES     15\n",
       "GR     13\n",
       "JP      7\n",
       "PT      6\n",
       "BR      6\n",
       "PK      6\n",
       "NL      5\n",
       "PL      4\n",
       "IT      4\n",
       "RU      4\n",
       "Name: employee_residence, dtype: int64"
      ]
     },
     "execution_count": 277,
     "metadata": {},
     "output_type": "execute_result"
    }
   ],
   "source": [
    "\n",
    "filtered=employee_residence_count[employee_residence_count>3]\n",
    "filtered\n",
    "# type(employee_residence_count)"
   ]
  },
  {
   "cell_type": "code",
   "execution_count": 278,
   "id": "87603b9f",
   "metadata": {},
   "outputs": [
    {
     "name": "stdout",
     "output_type": "stream",
     "text": [
      "employee_residence\n",
      "MY    200000.00000\n",
      "PR    160000.00000\n",
      "US    149194.11747\n",
      "NZ    125000.00000\n",
      "CH    122346.00000\n",
      "Name: salary_in_usd, dtype: float64\n"
     ]
    },
    {
     "data": {
      "text/plain": [
       "Text(0.5, 1.0, '5 countries with the highest average salary')"
      ]
     },
     "execution_count": 278,
     "metadata": {},
     "output_type": "execute_result"
    },
    {
     "data": {
      "image/png": "[encoded data removed]",
      "text/plain": [
       "<Figure size 640x480 with 1 Axes>"
      ]
     },
     "metadata": {},
     "output_type": "display_data"
    }
   ],
   "source": [
    "#ortalama maaşı en yüksek olan 5 ülke grafikleri\n",
    "sm3 = df.groupby(\"employee_residence\")['salary_in_usd'].mean().nlargest(5)\n",
    "print(sm3)\n",
    "sm3=sm3.to_frame()\n",
    "\n",
    "\n",
    "sns.barplot(x=sm3.index.get_level_values(\"employee_residence\"),y=\"salary_in_usd\",data=sm3)\n",
    "\n",
    "plt.title(\"5 countries with the highest average salary\")\n"
   ]
  },
  {
   "attachments": {},
   "cell_type": "markdown",
   "id": "2b3505f1",
   "metadata": {},
   "source": [
    "Genel tabloya baktığımızda Malezya(MY) ve Porto riko(PR), Amerikaya kıyasla daha yüksek ortalama maaş değerlerine sahip gözükmektedir.Ancak veri setinde malezya ve porto rikodan alınan şirket sayısının muhtemelen az olması bu iki ülkedeki maaşların Amerikadaki maaşlardan daha yüksek gözükmesine sebep olmuş olabilir."
   ]
  },
  {
   "cell_type": "code",
   "execution_count": 279,
   "id": "40d3f6db",
   "metadata": {},
   "outputs": [
    {
     "name": "stdout",
     "output_type": "stream",
     "text": [
      "                              salary_in_usd\n",
      "work_year employee_residence               \n",
      "2020      US                       157462.0\n",
      "          JP                       150844.5\n",
      "          NZ                       125000.0\n",
      "          CA                       117104.0\n",
      "          AE                       115000.0\n"
     ]
    }
   ],
   "source": [
    "sm4 = df.groupby([\"work_year\",\"employee_residence\"])['salary_in_usd'].mean().groupby('work_year').nlargest(5).reset_index(level=0,drop=True)\n",
    "\n",
    "sm4=np.array_split(sm4,3)\n",
    "#sm4[0] #2020 yılı en yüksek ortalama maaşa sahip 5 şirket\n",
    "\n",
    "a1=sm4[0]\n",
    "dfnew=a1.to_frame()\n",
    "print(dfnew)\n",
    "\n",
    "# dfnew.reset_index() #multi index'i normale çevirir\n",
    "\n",
    "\n"
   ]
  },
  {
   "cell_type": "code",
   "execution_count": 280,
   "id": "d790f94e",
   "metadata": {},
   "outputs": [
    {
     "data": {
      "text/plain": [
       "Text(0.5, 1.0, '2020')"
      ]
     },
     "execution_count": 280,
     "metadata": {},
     "output_type": "execute_result"
    },
    {
     "data": {
      "image/png": "[encoded data removed]",
      "text/plain": [
       "<Figure size 640x480 with 1 Axes>"
      ]
     },
     "metadata": {},
     "output_type": "display_data"
    }
   ],
   "source": [
    "\n",
    "sns.barplot(x=dfnew.index.get_level_values(\"employee_residence\"),y=\"salary_in_usd\",data=dfnew)\n",
    "plt.title(\"2020\")\n"
   ]
  },
  {
   "cell_type": "code",
   "execution_count": 281,
   "id": "d59f3b0d",
   "metadata": {},
   "outputs": [
    {
     "name": "stdout",
     "output_type": "stream",
     "text": [
      "                              salary_in_usd\n",
      "work_year employee_residence               \n",
      "2021      PR                  160000.000000\n",
      "          RU                  157500.000000\n",
      "          US                  155562.356322\n",
      "          SG                  104176.500000\n",
      "          CA                  101475.333333\n"
     ]
    },
    {
     "data": {
      "text/plain": [
       "Text(0.5, 1.0, '2021')"
      ]
     },
     "execution_count": 281,
     "metadata": {},
     "output_type": "execute_result"
    },
    {
     "data": {
      "image/png": "[encoded data removed]",
      "text/plain": [
       "<Figure size 640x480 with 1 Axes>"
      ]
     },
     "metadata": {},
     "output_type": "display_data"
    }
   ],
   "source": [
    "dfnew2=sm4[1].to_frame()\n",
    "print(dfnew2)\n",
    "sns.barplot(x=dfnew2.index.get_level_values(\"employee_residence\"),y=\"salary_in_usd\",data=dfnew2)\n",
    "plt.title(\"2021\")\n",
    "\n"
   ]
  },
  {
   "cell_type": "code",
   "execution_count": 282,
   "id": "f07d0397",
   "metadata": {},
   "outputs": [
    {
     "name": "stdout",
     "output_type": "stream",
     "text": [
      "                              salary_in_usd\n",
      "work_year employee_residence               \n",
      "2022      MY                  200000.000000\n",
      "          US                  145736.236364\n",
      "          CH                  122346.000000\n",
      "          AU                  108042.666667\n",
      "          DE                  101854.333333\n"
     ]
    },
    {
     "data": {
      "text/plain": [
       "Text(0.5, 1.0, '2022')"
      ]
     },
     "execution_count": 282,
     "metadata": {},
     "output_type": "execute_result"
    },
    {
     "data": {
      "image/png": "[encoded data removed]",
      "text/plain": [
       "<Figure size 640x480 with 1 Axes>"
      ]
     },
     "metadata": {},
     "output_type": "display_data"
    }
   ],
   "source": [
    "dfnew3=sm4[2].to_frame()\n",
    "print(dfnew3)\n",
    "sns.barplot(x=dfnew3.index.get_level_values(\"employee_residence\"),y=\"salary_in_usd\",data=dfnew3)\n",
    "plt.title(\"2022\")"
   ]
  },
  {
   "attachments": {},
   "cell_type": "markdown",
   "id": "01d8e5e2",
   "metadata": {},
   "source": [
    "2020 den 20222'ye doğru geldiğimizde ise Amerikanın listede ilk sıradayken aşağı doğru inişi diğer ülkelerdeki maaşların daha çok artmasından dolayı değil, Amerikadaki bu şirketlerden alınan yıllık ortalama maaşın her geçen yıl azalmasından kaynaklanmaktadır.Yukarıdaki örneklerde de belirttiğimiz gibi verilerin yeterli olmaması veya sektör içi rekabetin artmasından dolayı maaşlarda düşüş gözlenmesi Amerikada oluşan bu düşüşü açıklayabilir."
   ]
  },
  {
   "attachments": {},
   "cell_type": "markdown",
   "id": "ef14ab7b",
   "metadata": {},
   "source": [
    "----------------------------------------------------------------------------------------------------------------------------------------------------------------------------------"
   ]
  },
  {
   "attachments": {},
   "cell_type": "markdown",
   "id": "2264bcd5",
   "metadata": {},
   "source": [
    "Bu bölümde ise yıl,tecrübe seviyesi,ikamet edilen yer parametrelerini kullanarak farklı regresyon türleriyle(Decision Tree ve Random Forest) maaşı tahmin edelim.Kullandığımız tahmin modellerinin başarı oranını ölçmek için MAE(mean_absolute_error), MSE(mean_squared_error) ve RMSE(root_mean_squared_error) gibi metriklerle aralarında kıyas yapalım."
   ]
  },
  {
   "attachments": {},
   "cell_type": "markdown",
   "id": "244c6451",
   "metadata": {},
   "source": [
    "Öncelikle elimizdeki kategorik değerleri (Employee_residence ve experience_level) sayısala çevirmek için Label Encoder kullanalım.(İleride ise OneHotEncoder kullanarak Label Encoder ile kıyaslama da yapalım.)"
   ]
  },
  {
   "cell_type": "code",
   "execution_count": 283,
   "id": "94542fef",
   "metadata": {},
   "outputs": [
    {
     "name": "stdout",
     "output_type": "stream",
     "text": [
      "<class 'pandas.core.frame.DataFrame'>\n",
      "<class 'pandas.core.frame.DataFrame'>\n"
     ]
    },
    {
     "data": {
      "text/html": [
       "<div>\n",
       "<style scoped>\n",
       "    .dataframe tbody tr th:only-of-type {\n",
       "        vertical-align: middle;\n",
       "    }\n",
       "\n",
       "    .dataframe tbody tr th {\n",
       "        vertical-align: top;\n",
       "    }\n",
       "\n",
       "    .dataframe thead th {\n",
       "        text-align: right;\n",
       "    }\n",
       "</style>\n",
       "<table border=\"1\" class=\"dataframe\">\n",
       "  <thead>\n",
       "    <tr style=\"text-align: right;\">\n",
       "      <th></th>\n",
       "      <th>work_year</th>\n",
       "      <th>experience_level</th>\n",
       "      <th>employee_residence</th>\n",
       "      <th>salary_in_usd</th>\n",
       "    </tr>\n",
       "  </thead>\n",
       "  <tbody>\n",
       "    <tr>\n",
       "      <th>0</th>\n",
       "      <td>2020</td>\n",
       "      <td>2</td>\n",
       "      <td>14</td>\n",
       "      <td>79833</td>\n",
       "    </tr>\n",
       "    <tr>\n",
       "      <th>1</th>\n",
       "      <td>2020</td>\n",
       "      <td>3</td>\n",
       "      <td>32</td>\n",
       "      <td>260000</td>\n",
       "    </tr>\n",
       "    <tr>\n",
       "      <th>2</th>\n",
       "      <td>2020</td>\n",
       "      <td>3</td>\n",
       "      <td>20</td>\n",
       "      <td>109024</td>\n",
       "    </tr>\n",
       "    <tr>\n",
       "      <th>3</th>\n",
       "      <td>2020</td>\n",
       "      <td>2</td>\n",
       "      <td>23</td>\n",
       "      <td>20000</td>\n",
       "    </tr>\n",
       "    <tr>\n",
       "      <th>4</th>\n",
       "      <td>2020</td>\n",
       "      <td>3</td>\n",
       "      <td>55</td>\n",
       "      <td>150000</td>\n",
       "    </tr>\n",
       "    <tr>\n",
       "      <th>...</th>\n",
       "      <td>...</td>\n",
       "      <td>...</td>\n",
       "      <td>...</td>\n",
       "      <td>...</td>\n",
       "    </tr>\n",
       "    <tr>\n",
       "      <th>602</th>\n",
       "      <td>2022</td>\n",
       "      <td>3</td>\n",
       "      <td>55</td>\n",
       "      <td>154000</td>\n",
       "    </tr>\n",
       "    <tr>\n",
       "      <th>603</th>\n",
       "      <td>2022</td>\n",
       "      <td>3</td>\n",
       "      <td>55</td>\n",
       "      <td>126000</td>\n",
       "    </tr>\n",
       "    <tr>\n",
       "      <th>604</th>\n",
       "      <td>2022</td>\n",
       "      <td>3</td>\n",
       "      <td>55</td>\n",
       "      <td>129000</td>\n",
       "    </tr>\n",
       "    <tr>\n",
       "      <th>605</th>\n",
       "      <td>2022</td>\n",
       "      <td>3</td>\n",
       "      <td>55</td>\n",
       "      <td>150000</td>\n",
       "    </tr>\n",
       "    <tr>\n",
       "      <th>606</th>\n",
       "      <td>2022</td>\n",
       "      <td>2</td>\n",
       "      <td>27</td>\n",
       "      <td>200000</td>\n",
       "    </tr>\n",
       "  </tbody>\n",
       "</table>\n",
       "<p>607 rows × 4 columns</p>\n",
       "</div>"
      ],
      "text/plain": [
       "     work_year  experience_level  employee_residence  salary_in_usd\n",
       "0         2020                 2                  14          79833\n",
       "1         2020                 3                  32         260000\n",
       "2         2020                 3                  20         109024\n",
       "3         2020                 2                  23          20000\n",
       "4         2020                 3                  55         150000\n",
       "..         ...               ...                 ...            ...\n",
       "602       2022                 3                  55         154000\n",
       "603       2022                 3                  55         126000\n",
       "604       2022                 3                  55         129000\n",
       "605       2022                 3                  55         150000\n",
       "606       2022                 2                  27         200000\n",
       "\n",
       "[607 rows x 4 columns]"
      ]
     },
     "execution_count": 283,
     "metadata": {},
     "output_type": "execute_result"
    }
   ],
   "source": [
    "from sklearn.preprocessing import LabelEncoder\n",
    "lb=LabelEncoder()\n",
    "df2=df2[[\"work_year\",\"experience_level\",\"employee_residence\",\"salary_in_usd\"]]\n",
    "print(type(df2))\n",
    "encoded_column=lb.fit_transform(df2[\"experience_level\"])\n",
    "encoded_column2=lb.fit_transform(df2[\"employee_residence\"])\n",
    "df2[\"experience_level\"]=encoded_column\n",
    "df2[\"employee_residence\"]=encoded_column2\n",
    "print(type(df2))\n",
    "x=df2.iloc[:,0:3]\n",
    "y=df2[\"salary_in_usd\"]\n",
    "X=x.values\n",
    "Y=y.values\n",
    "df2\n",
    "\n"
   ]
  },
  {
   "cell_type": "code",
   "execution_count": 284,
   "id": "fbf0d979",
   "metadata": {},
   "outputs": [
    {
     "name": "stdout",
     "output_type": "stream",
     "text": [
      "2859\n",
      "600000\n"
     ]
    }
   ],
   "source": [
    "print(df2[\"salary_in_usd\"].min())\n",
    "print(df2[\"salary_in_usd\"].max())"
   ]
  },
  {
   "attachments": {},
   "cell_type": "markdown",
   "id": "113a47e7",
   "metadata": {},
   "source": [
    "Regresyon modelleri kullanarak maaş tahmini yapacağız ve gördüğümüz üzere maaşın aralığı çok yüksek,Bu yüzden metriklerde çok yüksek sonuçlar alabiliriz ancak bizim için önemli olan bu sonuçların yüksekliği değil, regresyon modellerinde bu değerlere göre en başarılı tahmin modelini bulabilmek."
   ]
  },
  {
   "cell_type": "code",
   "execution_count": 285,
   "id": "fd61e40e",
   "metadata": {},
   "outputs": [
    {
     "data": {
      "text/plain": [
       "array([148227.6962963 ,  28609.        ,  78173.16666667, 148227.6962963 ,\n",
       "       102838.5       , 100000.        , 148227.6962963 ,  45807.        ,\n",
       "       175120.        , 148227.6962963 , 148227.6962963 ,  62651.        ,\n",
       "        84150.25      , 148227.6962963 ,  65000.        ,  53858.        ,\n",
       "       148227.6962963 , 148227.6962963 ,  95000.        , 148227.6962963 ,\n",
       "       151293.75      , 175120.        , 134163.88888889,  65000.        ,\n",
       "       135936.        ,  75000.        , 109008.66666667,  93964.28571429,\n",
       "       104176.5       ,  78911.05882353, 148227.6962963 ,  85825.        ,\n",
       "        45807.        ,  12650.75      , 134163.88888889, 148227.6962963 ,\n",
       "       148227.6962963 , 148227.6962963 ,  78911.05882353, 148227.6962963 ,\n",
       "        72291.        , 104588.25      , 151293.75      , 148227.6962963 ,\n",
       "       148227.6962963 , 177763.88888889,  78911.05882353,  85825.        ,\n",
       "       168000.        ,  56770.25      , 148227.6962963 ,  78911.05882353,\n",
       "       148227.6962963 ,  12650.75      , 148227.6962963 , 175120.        ,\n",
       "        75000.        , 148227.6962963 , 151293.75      , 175120.        ,\n",
       "        93964.28571429,  41689.        , 148227.6962963 , 160000.        ,\n",
       "       148227.6962963 ,  40481.        , 134163.88888889,  46597.        ,\n",
       "        95000.        ,  93964.28571429, 148227.6962963 , 148227.6962963 ,\n",
       "        52198.        ,  54374.        , 101200.        , 361666.66666667,\n",
       "        84150.25      ,  58354.        , 148227.6962963 ,  58163.5       ,\n",
       "        85825.        ,  78911.05882353, 148227.6962963 , 148227.6962963 ,\n",
       "       134163.88888889,  13400.        , 148227.6962963 ,  54374.        ,\n",
       "       148227.6962963 , 104588.25      ,   5707.        , 101200.        ,\n",
       "       175120.        , 134163.88888889, 148227.6962963 ,  62726.        ,\n",
       "       175120.        , 148227.6962963 ,  12650.75      , 134163.88888889,\n",
       "       148227.6962963 ,  62649.        ,  21248.71428571, 148227.6962963 ,\n",
       "        21248.71428571,  45760.        , 126826.5       ,  62726.        ,\n",
       "       212040.        ,  41689.        ,  51363.66666667, 148227.6962963 ,\n",
       "        63842.        ,  54374.        , 175120.        , 148227.6962963 ,\n",
       "       148227.6962963 , 126826.5       , 126826.5       , 148227.6962963 ,\n",
       "       102839.        , 175120.        ])"
      ]
     },
     "execution_count": 285,
     "metadata": {},
     "output_type": "execute_result"
    }
   ],
   "source": [
    "from sklearn.model_selection import train_test_split\n",
    "\n",
    "X_train, X_test, y_train, y_test= train_test_split(X,Y,test_size=0.2,random_state=0)\n",
    "\n",
    "from sklearn.tree import DecisionTreeRegressor\n",
    "dtr=DecisionTreeRegressor(random_state=0)\n",
    "dtr.fit(X_train,y_train)\n",
    "y_pred=dtr.predict(X_test)\n",
    "y_pred\n",
    "\n",
    "\n"
   ]
  },
  {
   "attachments": {},
   "cell_type": "markdown",
   "id": "b8d33407",
   "metadata": {},
   "source": [
    "DecisionTreeRegressor kullanarak veri setimizi eğittik ve X_test değerlerini tahmin ettirdik.Bunları y_pred ile bastırdık. Şu an bize sonuç olarak gelen array kümesi çok büyük bir anlam ifade etmiyor ancak başarısını diğer regresyon modelleriyle kıyasladıkça anlam ifade edecektir."
   ]
  },
  {
   "cell_type": "code",
   "execution_count": 286,
   "id": "e8279b9d",
   "metadata": {},
   "outputs": [
    {
     "name": "stdout",
     "output_type": "stream",
     "text": [
      "mae:  37033.05355331568\n",
      "mse:  3308379259.732701\n",
      "rmse:  57518.512321970746\n"
     ]
    }
   ],
   "source": [
    "from sklearn.metrics import mean_squared_error,mean_absolute_error\n",
    "mae = mean_absolute_error(y_test, y_pred)\n",
    "print(\"mae: \",mae)\n",
    "mse = mean_squared_error(y_test, y_pred)\n",
    "print(\"mse: \",mse)\n",
    "rmse = mean_squared_error(y_test, y_pred, squared=False)\n",
    "print(\"rmse: \",rmse)"
   ]
  },
  {
   "attachments": {},
   "cell_type": "markdown",
   "id": "ea3f4430",
   "metadata": {},
   "source": [
    "3 Metriğe göre DecisionTreeRegressor'un başarı oranı hakkında bilgi edinmek için hesabımızı yaptık.Bunun daha da anlam kazanması için RandomForestRegressor ile kıyaslayalım."
   ]
  },
  {
   "cell_type": "code",
   "execution_count": 287,
   "id": "1436454e",
   "metadata": {},
   "outputs": [
    {
     "data": {
      "text/plain": [
       "array([148030.34738562,  44239.16666667,  78637.10702381, 148030.34738562,\n",
       "       121358.96666667,  53001.4       , 148030.34738562,  43756.63333333,\n",
       "       176002.70482721, 148030.34738562, 148030.34738562, 174765.1       ,\n",
       "        83535.61857143, 148030.34738562,  75666.66666667,  56093.61349206,\n",
       "       148030.34738562, 148030.34738562, 107881.94444444, 148030.34738562,\n",
       "       141187.78402153, 176002.70482721, 151961.49509215,  85916.66666667,\n",
       "        76005.9       ,  73317.175     ,  31803.36666667,  90124.32364613,\n",
       "        33587.8       ,  82310.29025309, 148030.34738562, 117890.00569986,\n",
       "        43756.63333333,  16921.54642857, 151961.49509215, 148030.34738562,\n",
       "       148030.34738562, 148030.34738562,  82310.29025309, 148030.34738562,\n",
       "        72152.90095238,  94298.91829365, 141187.78402153, 148030.34738562,\n",
       "       148030.34738562, 183701.99990981,  82310.29025309, 117890.00569986,\n",
       "       200551.1       ,  50400.38202381, 148030.34738562,  82310.29025309,\n",
       "       148030.34738562,  16921.54642857, 148030.34738562, 176002.70482721,\n",
       "        69301.875     , 148030.34738562, 141187.78402153, 176002.70482721,\n",
       "        90124.32364613,  54991.8       , 148030.34738562, 111118.8       ,\n",
       "       148030.34738562,  19492.73916667, 151961.49509215,  37898.92      ,\n",
       "       107881.94444444,  90124.32364613, 148030.34738562, 148030.34738562,\n",
       "        68785.31      ,  48278.49666667, 126345.67460317, 362108.33333333,\n",
       "        77783.3       ,  55554.10952381, 148030.34738562,  49381.65      ,\n",
       "       117890.00569986,  82310.29025309, 148030.34738562, 148030.34738562,\n",
       "       151961.49509215,  21509.65      , 148030.34738562,  47008.01666667,\n",
       "       148030.34738562,  94298.91829365,   5874.29166667, 126345.67460317,\n",
       "       176002.70482721, 151961.49509215, 148030.34738562,  51772.08666667,\n",
       "       176002.70482721, 148030.34738562,  16921.54642857, 151961.49509215,\n",
       "       148030.34738562,  59219.14166667,  20260.84989475, 148030.34738562,\n",
       "        54646.75      ,  24886.2       , 123291.75520591,  51772.08666667,\n",
       "       228162.55555556,  47108.7       ,  50227.95535714, 148030.34738562,\n",
       "        62052.1       ,  47008.01666667, 176002.70482721, 148030.34738562,\n",
       "       148030.34738562, 123291.75520591, 123291.75520591, 148030.34738562,\n",
       "        58954.3       , 176002.70482721])"
      ]
     },
     "execution_count": 287,
     "metadata": {},
     "output_type": "execute_result"
    }
   ],
   "source": [
    "from sklearn.ensemble import RandomForestRegressor\n",
    "rfr=RandomForestRegressor(n_estimators=10,random_state=0)\n",
    "rfr.fit(X,Y)\n",
    "y_pred2=rfr.predict(X_test)\n",
    "y_pred2"
   ]
  },
  {
   "cell_type": "code",
   "execution_count": 288,
   "id": "f6c50def",
   "metadata": {},
   "outputs": [
    {
     "name": "stdout",
     "output_type": "stream",
     "text": [
      "MAE:  30721.973443780553\n",
      "MSE:  2573384181.0894475\n",
      "RMSE:  57518.512321970746\n"
     ]
    }
   ],
   "source": [
    "from sklearn.metrics import mean_absolute_error, mean_squared_error\n",
    "\n",
    "mae2=mean_absolute_error(y_test,y_pred2)\n",
    "mse2=mean_squared_error(y_test,y_pred2)\n",
    "rmse2 = mean_squared_error(y_test, y_pred2, squared=False)\n",
    "print(\"MAE: \",mae2)\n",
    "print(\"MSE: \",mse2)\n",
    "print(\"RMSE: \",rmse)\n"
   ]
  },
  {
   "attachments": {},
   "cell_type": "markdown",
   "id": "3d369772",
   "metadata": {},
   "source": [
    "Burada da aynı metriklerle RandomForestRegressor'a göre başarı oranı hesapladık. Şimdi bunları yan yana görelim ki yorumumuzu yapalım."
   ]
  },
  {
   "cell_type": "code",
   "execution_count": 289,
   "id": "7510e4f3",
   "metadata": {},
   "outputs": [
    {
     "name": "stdout",
     "output_type": "stream",
     "text": [
      "DecisionTreeRegressor MAE değeri: 37033.05355331568, Random Forest Regressor MAE değeri: 30721.973443780553.\n",
      "DecisionTreeRegressor MSE değeri: 3308379259.732701, Random Forest Regressor MSE değeri: 2573384181.0894475.\n",
      "DecisionTreeRegressor RMSE değeri: 57518.512321970746, Random Forest Regressor RMSE değeri: 50728.53419023112.\n"
     ]
    }
   ],
   "source": [
    "print(f\"DecisionTreeRegressor MAE değeri: {mae}, Random Forest Regressor MAE değeri: {mae2}.\")\n",
    "print(f\"DecisionTreeRegressor MSE değeri: {mse}, Random Forest Regressor MSE değeri: {mse2}.\")\n",
    "print(f\"DecisionTreeRegressor RMSE değeri: {rmse}, Random Forest Regressor RMSE değeri: {rmse2}.\")"
   ]
  },
  {
   "attachments": {},
   "cell_type": "markdown",
   "id": "382dc541",
   "metadata": {},
   "source": [
    "Yukarıda elde ettiğimiz sonuçlara göre Random Forest Regressor'ın değerleri Decision Tree Regressor'ın değerlerinden daha düşük olduğu gözükmektedir.(Hesapladığımız değerler hata oranıdır.Hata oranları düştükçe başarı o kadar artmaktadır.). Random Forest bu veri setimizde maaşı tahmin etme açısından Decision Tree'den daha başarılı olduğu bariz gözükmektedir.Peki bu çıkarımı test etmeden yapabilir miydik?"
   ]
  },
  {
   "attachments": {},
   "cell_type": "markdown",
   "id": "56a6c979",
   "metadata": {},
   "source": [
    "Elimizdeki veri setini incelediğimizde aslında Random Forest'ın daha başarılı sonuç çıkaracağını tahmin edebilirdik. Random Forest daha büyük bir veri seti ve hesaplama gücüne sahip bir sistemde Decision Tree'den daha iyi sonuçlar çıkarmaktadır.Ayrıca Decision Tree tek bir ağaç kullandığından ötürü ağaç aşırı uyum sağlama eğiliminde olabilmektedir. Random Forest ise birden çok ağacın bir araya gelmesiyle tahmin yapmaktadır.Her ağacın tahminlerinin ortalamasını alarak birleştirmektedir.Bu sebepten ötürü her ağacın kendi hatalarını diğerleri dengeleyerek genellikle daha iyi genelleştirme yeteneğine sahiptir. \n",
    "\n",
    "Sonuç olarak Random Forest veri seti büyüdüğünde ve bu büyük veri setlerini ezberlemeyip daha iyi genelleştirme yeteneğine sahip olduğundan dolayı(Decision Tree'ye göre) bu maaş tahmini örneğimizde daha başarılı sonuçlar ortaya çıkardı."
   ]
  },
  {
   "attachments": {},
   "cell_type": "markdown",
   "id": "ba5de811",
   "metadata": {},
   "source": [
    "    **2 temel regresyon modeliyle bu kıyaslamamızı bitirdik. Bir de olaya daha farklı bir boyut olan veri setimizdeki kategorik değerleri sayısala çevirirken  kullandığımız 2 method olan Label Encoder ve One Hot Encoder kıyasıyla bakalım.**"
   ]
  },
  {
   "attachments": {},
   "cell_type": "markdown",
   "id": "cf7428fa",
   "metadata": {},
   "source": [
    "Şimdi ise Label Encoder yerine OneHotEncoder kullanalım ve ayrıca employee_residence gibi çok sayıda sonucu olan satırımıza OneHotEncoder uyguladıktan sonra boyut indirgeme tekniği olan PCA methodunu uygulayalım.\n"
   ]
  },
  {
   "attachments": {},
   "cell_type": "markdown",
   "id": "73828631",
   "metadata": {},
   "source": [
    "LabelEncoder uygulamadan önce kullanmayacağımız satırları attığımız gibi yine atalım ve bunun üstüne OneHotEncoder uygulayalım."
   ]
  },
  {
   "cell_type": "code",
   "execution_count": 290,
   "id": "f67c3fee",
   "metadata": {},
   "outputs": [
    {
     "data": {
      "text/html": [
       "<div>\n",
       "<style scoped>\n",
       "    .dataframe tbody tr th:only-of-type {\n",
       "        vertical-align: middle;\n",
       "    }\n",
       "\n",
       "    .dataframe tbody tr th {\n",
       "        vertical-align: top;\n",
       "    }\n",
       "\n",
       "    .dataframe thead th {\n",
       "        text-align: right;\n",
       "    }\n",
       "</style>\n",
       "<table border=\"1\" class=\"dataframe\">\n",
       "  <thead>\n",
       "    <tr style=\"text-align: right;\">\n",
       "      <th></th>\n",
       "      <th>work_year</th>\n",
       "      <th>experience_level</th>\n",
       "      <th>employee_residence</th>\n",
       "      <th>salary_in_usd</th>\n",
       "    </tr>\n",
       "  </thead>\n",
       "  <tbody>\n",
       "    <tr>\n",
       "      <th>0</th>\n",
       "      <td>2020</td>\n",
       "      <td>MI</td>\n",
       "      <td>DE</td>\n",
       "      <td>79833</td>\n",
       "    </tr>\n",
       "    <tr>\n",
       "      <th>1</th>\n",
       "      <td>2020</td>\n",
       "      <td>SE</td>\n",
       "      <td>JP</td>\n",
       "      <td>260000</td>\n",
       "    </tr>\n",
       "    <tr>\n",
       "      <th>2</th>\n",
       "      <td>2020</td>\n",
       "      <td>SE</td>\n",
       "      <td>GB</td>\n",
       "      <td>109024</td>\n",
       "    </tr>\n",
       "    <tr>\n",
       "      <th>3</th>\n",
       "      <td>2020</td>\n",
       "      <td>MI</td>\n",
       "      <td>HN</td>\n",
       "      <td>20000</td>\n",
       "    </tr>\n",
       "    <tr>\n",
       "      <th>4</th>\n",
       "      <td>2020</td>\n",
       "      <td>SE</td>\n",
       "      <td>US</td>\n",
       "      <td>150000</td>\n",
       "    </tr>\n",
       "    <tr>\n",
       "      <th>...</th>\n",
       "      <td>...</td>\n",
       "      <td>...</td>\n",
       "      <td>...</td>\n",
       "      <td>...</td>\n",
       "    </tr>\n",
       "    <tr>\n",
       "      <th>602</th>\n",
       "      <td>2022</td>\n",
       "      <td>SE</td>\n",
       "      <td>US</td>\n",
       "      <td>154000</td>\n",
       "    </tr>\n",
       "    <tr>\n",
       "      <th>603</th>\n",
       "      <td>2022</td>\n",
       "      <td>SE</td>\n",
       "      <td>US</td>\n",
       "      <td>126000</td>\n",
       "    </tr>\n",
       "    <tr>\n",
       "      <th>604</th>\n",
       "      <td>2022</td>\n",
       "      <td>SE</td>\n",
       "      <td>US</td>\n",
       "      <td>129000</td>\n",
       "    </tr>\n",
       "    <tr>\n",
       "      <th>605</th>\n",
       "      <td>2022</td>\n",
       "      <td>SE</td>\n",
       "      <td>US</td>\n",
       "      <td>150000</td>\n",
       "    </tr>\n",
       "    <tr>\n",
       "      <th>606</th>\n",
       "      <td>2022</td>\n",
       "      <td>MI</td>\n",
       "      <td>IN</td>\n",
       "      <td>200000</td>\n",
       "    </tr>\n",
       "  </tbody>\n",
       "</table>\n",
       "<p>607 rows × 4 columns</p>\n",
       "</div>"
      ],
      "text/plain": [
       "     work_year experience_level employee_residence  salary_in_usd\n",
       "0         2020               MI                 DE          79833\n",
       "1         2020               SE                 JP         260000\n",
       "2         2020               SE                 GB         109024\n",
       "3         2020               MI                 HN          20000\n",
       "4         2020               SE                 US         150000\n",
       "..         ...              ...                ...            ...\n",
       "602       2022               SE                 US         154000\n",
       "603       2022               SE                 US         126000\n",
       "604       2022               SE                 US         129000\n",
       "605       2022               SE                 US         150000\n",
       "606       2022               MI                 IN         200000\n",
       "\n",
       "[607 rows x 4 columns]"
      ]
     },
     "execution_count": 290,
     "metadata": {},
     "output_type": "execute_result"
    }
   ],
   "source": [
    "from sklearn.decomposition import PCA\n",
    "from sklearn.preprocessing import OneHotEncoder\n",
    "df3=df.drop([\"Unnamed: 0\",\"employment_type\",\"job_title\",\"salary_currency\",\"remote_ratio\",\"company_size\",\"company_location\",\"salary\"],axis=1)\n",
    "df3=df3[[\"work_year\",\"experience_level\",\"employee_residence\",\"salary_in_usd\"]]\n",
    "df3"
   ]
  },
  {
   "cell_type": "code",
   "execution_count": 291,
   "id": "8db6995c",
   "metadata": {},
   "outputs": [
    {
     "data": {
      "text/html": [
       "<div>\n",
       "<style scoped>\n",
       "    .dataframe tbody tr th:only-of-type {\n",
       "        vertical-align: middle;\n",
       "    }\n",
       "\n",
       "    .dataframe tbody tr th {\n",
       "        vertical-align: top;\n",
       "    }\n",
       "\n",
       "    .dataframe thead th {\n",
       "        text-align: right;\n",
       "    }\n",
       "</style>\n",
       "<table border=\"1\" class=\"dataframe\">\n",
       "  <thead>\n",
       "    <tr style=\"text-align: right;\">\n",
       "      <th></th>\n",
       "      <th>work_year</th>\n",
       "      <th>PC1</th>\n",
       "      <th>PC2</th>\n",
       "      <th>PC3</th>\n",
       "      <th>Experience level1</th>\n",
       "      <th>Experience level2</th>\n",
       "      <th>Experience level3</th>\n",
       "      <th>Experience level4</th>\n",
       "      <th>salary_in_usd</th>\n",
       "    </tr>\n",
       "  </thead>\n",
       "  <tbody>\n",
       "    <tr>\n",
       "      <th>0</th>\n",
       "      <td>2020</td>\n",
       "      <td>0.581859</td>\n",
       "      <td>-0.225973</td>\n",
       "      <td>-0.077380</td>\n",
       "      <td>0.0</td>\n",
       "      <td>0.0</td>\n",
       "      <td>1.0</td>\n",
       "      <td>0.0</td>\n",
       "      <td>79833</td>\n",
       "    </tr>\n",
       "    <tr>\n",
       "      <th>1</th>\n",
       "      <td>2020</td>\n",
       "      <td>0.514264</td>\n",
       "      <td>-0.102533</td>\n",
       "      <td>-0.015553</td>\n",
       "      <td>0.0</td>\n",
       "      <td>0.0</td>\n",
       "      <td>0.0</td>\n",
       "      <td>1.0</td>\n",
       "      <td>260000</td>\n",
       "    </tr>\n",
       "    <tr>\n",
       "      <th>2</th>\n",
       "      <td>2020</td>\n",
       "      <td>0.675591</td>\n",
       "      <td>0.834468</td>\n",
       "      <td>0.024211</td>\n",
       "      <td>0.0</td>\n",
       "      <td>0.0</td>\n",
       "      <td>0.0</td>\n",
       "      <td>1.0</td>\n",
       "      <td>109024</td>\n",
       "    </tr>\n",
       "    <tr>\n",
       "      <th>3</th>\n",
       "      <td>2020</td>\n",
       "      <td>0.495093</td>\n",
       "      <td>-0.086739</td>\n",
       "      <td>-0.012282</td>\n",
       "      <td>0.0</td>\n",
       "      <td>0.0</td>\n",
       "      <td>1.0</td>\n",
       "      <td>0.0</td>\n",
       "      <td>20000</td>\n",
       "    </tr>\n",
       "    <tr>\n",
       "      <th>4</th>\n",
       "      <td>2020</td>\n",
       "      <td>-0.468576</td>\n",
       "      <td>0.011569</td>\n",
       "      <td>0.001158</td>\n",
       "      <td>0.0</td>\n",
       "      <td>0.0</td>\n",
       "      <td>0.0</td>\n",
       "      <td>1.0</td>\n",
       "      <td>150000</td>\n",
       "    </tr>\n",
       "    <tr>\n",
       "      <th>...</th>\n",
       "      <td>...</td>\n",
       "      <td>...</td>\n",
       "      <td>...</td>\n",
       "      <td>...</td>\n",
       "      <td>...</td>\n",
       "      <td>...</td>\n",
       "      <td>...</td>\n",
       "      <td>...</td>\n",
       "      <td>...</td>\n",
       "    </tr>\n",
       "    <tr>\n",
       "      <th>602</th>\n",
       "      <td>2022</td>\n",
       "      <td>-0.468576</td>\n",
       "      <td>0.011569</td>\n",
       "      <td>0.001158</td>\n",
       "      <td>0.0</td>\n",
       "      <td>0.0</td>\n",
       "      <td>0.0</td>\n",
       "      <td>1.0</td>\n",
       "      <td>154000</td>\n",
       "    </tr>\n",
       "    <tr>\n",
       "      <th>603</th>\n",
       "      <td>2022</td>\n",
       "      <td>-0.468576</td>\n",
       "      <td>0.011569</td>\n",
       "      <td>0.001158</td>\n",
       "      <td>0.0</td>\n",
       "      <td>0.0</td>\n",
       "      <td>0.0</td>\n",
       "      <td>1.0</td>\n",
       "      <td>126000</td>\n",
       "    </tr>\n",
       "    <tr>\n",
       "      <th>604</th>\n",
       "      <td>2022</td>\n",
       "      <td>-0.468576</td>\n",
       "      <td>0.011569</td>\n",
       "      <td>0.001158</td>\n",
       "      <td>0.0</td>\n",
       "      <td>0.0</td>\n",
       "      <td>0.0</td>\n",
       "      <td>1.0</td>\n",
       "      <td>129000</td>\n",
       "    </tr>\n",
       "    <tr>\n",
       "      <th>605</th>\n",
       "      <td>2022</td>\n",
       "      <td>-0.468576</td>\n",
       "      <td>0.011569</td>\n",
       "      <td>0.001158</td>\n",
       "      <td>0.0</td>\n",
       "      <td>0.0</td>\n",
       "      <td>0.0</td>\n",
       "      <td>1.0</td>\n",
       "      <td>150000</td>\n",
       "    </tr>\n",
       "    <tr>\n",
       "      <th>606</th>\n",
       "      <td>2022</td>\n",
       "      <td>0.603908</td>\n",
       "      <td>-0.339513</td>\n",
       "      <td>0.742370</td>\n",
       "      <td>0.0</td>\n",
       "      <td>0.0</td>\n",
       "      <td>1.0</td>\n",
       "      <td>0.0</td>\n",
       "      <td>200000</td>\n",
       "    </tr>\n",
       "  </tbody>\n",
       "</table>\n",
       "<p>607 rows × 9 columns</p>\n",
       "</div>"
      ],
      "text/plain": [
       "     work_year       PC1       PC2       PC3  Experience level1  \\\n",
       "0         2020  0.581859 -0.225973 -0.077380                0.0   \n",
       "1         2020  0.514264 -0.102533 -0.015553                0.0   \n",
       "2         2020  0.675591  0.834468  0.024211                0.0   \n",
       "3         2020  0.495093 -0.086739 -0.012282                0.0   \n",
       "4         2020 -0.468576  0.011569  0.001158                0.0   \n",
       "..         ...       ...       ...       ...                ...   \n",
       "602       2022 -0.468576  0.011569  0.001158                0.0   \n",
       "603       2022 -0.468576  0.011569  0.001158                0.0   \n",
       "604       2022 -0.468576  0.011569  0.001158                0.0   \n",
       "605       2022 -0.468576  0.011569  0.001158                0.0   \n",
       "606       2022  0.603908 -0.339513  0.742370                0.0   \n",
       "\n",
       "     Experience level2  Experience level3  Experience level4  salary_in_usd  \n",
       "0                  0.0                1.0                0.0          79833  \n",
       "1                  0.0                0.0                1.0         260000  \n",
       "2                  0.0                0.0                1.0         109024  \n",
       "3                  0.0                1.0                0.0          20000  \n",
       "4                  0.0                0.0                1.0         150000  \n",
       "..                 ...                ...                ...            ...  \n",
       "602                0.0                0.0                1.0         154000  \n",
       "603                0.0                0.0                1.0         126000  \n",
       "604                0.0                0.0                1.0         129000  \n",
       "605                0.0                0.0                1.0         150000  \n",
       "606                0.0                1.0                0.0         200000  \n",
       "\n",
       "[607 rows x 9 columns]"
      ]
     },
     "execution_count": 291,
     "metadata": {},
     "output_type": "execute_result"
    }
   ],
   "source": [
    "ohe=OneHotEncoder()\n",
    "el_encoded=ohe.fit_transform(df3[[\"experience_level\"]])\n",
    "ohe2=OneHotEncoder()\n",
    "er_encoded=ohe2.fit_transform(df3[[\"employee_residence\"]])\n",
    "\n",
    "pca=PCA(n_components=3)\n",
    "er_pca=pca.fit_transform(er_encoded.toarray())\n",
    "er_pca_df=pd.DataFrame(data=er_pca,columns=[\"PC1\",\"PC2\",\"PC3\"])\n",
    "\n",
    "el_encoded_df=pd.DataFrame(data=el_encoded.toarray(),columns=[\"Experience level1\",\"Experience level2\",\"Experience level3\",\"Experience level4\"])\n",
    "\n",
    "newdf3=pd.concat([df3,er_pca_df,el_encoded_df],axis=1)\n",
    "newdf3=newdf3.drop([\"experience_level\",\"employee_residence\"],axis=1)\n",
    "newdf3=newdf3[[\"work_year\",\"PC1\",\"PC2\",\"PC3\",\"Experience level1\",\"Experience level2\",\"Experience level3\",\"Experience level4\",\"salary_in_usd\"]]\n",
    "newdf3"
   ]
  },
  {
   "attachments": {},
   "cell_type": "markdown",
   "id": "b9a3812b",
   "metadata": {},
   "source": [
    "Employee_residence için sadece OneHotEncoder kullansak veri setimizde çok büyük bir yük olacaktı.Bunun üstüne PCA uygulayıp boyut indirgedik.Experience level ise sadece OneHotEncoder uygulanarak 4 farklı column oluşturmuş oldu. Şimdi test zamanı."
   ]
  },
  {
   "cell_type": "code",
   "execution_count": 292,
   "id": "064d8538",
   "metadata": {},
   "outputs": [
    {
     "data": {
      "text/plain": [
       "array([148227.6962963 ,  10000.        ,  78173.16666667, 148227.6962963 ,\n",
       "       102838.5       ,   4000.        , 148227.6962963 ,  45807.        ,\n",
       "       175120.        , 148227.6962963 , 148227.6962963 ,  71444.        ,\n",
       "        84150.25      , 148227.6962963 ,  71444.        ,  53858.        ,\n",
       "       148227.6962963 , 148227.6962963 ,  95000.        , 148227.6962963 ,\n",
       "       151293.75      , 175120.        , 134163.88888889,  65000.        ,\n",
       "       153667.        ,  76773.33333333,  12000.        ,  93964.28571429,\n",
       "        58875.71428571,  78911.05882353, 148227.6962963 ,  85825.        ,\n",
       "        45807.        ,  12650.75      , 134163.88888889, 148227.6962963 ,\n",
       "       148227.6962963 , 148227.6962963 ,  78911.05882353, 148227.6962963 ,\n",
       "        72291.        , 104588.25      , 151293.75      , 148227.6962963 ,\n",
       "       148227.6962963 , 177763.88888889,  78911.05882353,  85825.        ,\n",
       "        60000.        ,  56770.25      , 148227.6962963 ,  78911.05882353,\n",
       "       148227.6962963 ,  12650.75      , 148227.6962963 , 175120.        ,\n",
       "        76773.33333333, 148227.6962963 , 151293.75      , 175120.        ,\n",
       "        93964.28571429,  58811.        , 148227.6962963 ,  60000.        ,\n",
       "       148227.6962963 ,  40481.        , 134163.88888889,  46597.        ,\n",
       "        95000.        ,  93964.28571429, 148227.6962963 , 148227.6962963 ,\n",
       "        52198.        ,  54374.        , 101200.        , 361666.66666667,\n",
       "        78039.5       ,  58354.        , 148227.6962963 , 125000.        ,\n",
       "        85825.        ,  78911.05882353, 148227.6962963 , 148227.6962963 ,\n",
       "       134163.88888889, 100000.        , 148227.6962963 ,  54374.        ,\n",
       "       148227.6962963 , 104588.25      ,   5707.        , 101200.        ,\n",
       "       175120.        , 134163.88888889, 148227.6962963 ,  62726.        ,\n",
       "       175120.        , 148227.6962963 ,  12650.75      , 134163.88888889,\n",
       "       148227.6962963 ,  62649.        ,  21248.71428571, 148227.6962963 ,\n",
       "       118351.5       ,  53090.        , 126826.5       ,  62726.        ,\n",
       "       212040.        ,  58811.        ,  51363.66666667, 148227.6962963 ,\n",
       "        63842.        ,  54374.        , 175120.        , 148227.6962963 ,\n",
       "       148227.6962963 , 126826.5       , 126826.5       , 148227.6962963 ,\n",
       "        50000.        , 175120.        ])"
      ]
     },
     "execution_count": 292,
     "metadata": {},
     "output_type": "execute_result"
    }
   ],
   "source": [
    "from sklearn.model_selection import train_test_split\n",
    "x2=newdf3.iloc[:,0:8]\n",
    "y2=newdf3[\"salary_in_usd\"]\n",
    "X2=x2.values\n",
    "Y2=y2.values\n",
    "\n",
    "\n",
    "X_train2, X_test2, y_train2, y_test2= train_test_split(X2,Y2,test_size=0.2,random_state=0)\n",
    "\n",
    "from sklearn.tree import DecisionTreeRegressor\n",
    "dtr2=DecisionTreeRegressor(random_state=0)\n",
    "dtr2.fit(X_train2,y_train2)\n",
    "y_pred3=dtr2.predict(X_test2)\n",
    "y_pred3"
   ]
  },
  {
   "cell_type": "code",
   "execution_count": 293,
   "id": "e66900c1",
   "metadata": {},
   "outputs": [
    {
     "name": "stdout",
     "output_type": "stream",
     "text": [
      "mae:  37941.94767899874\n",
      "mse:  3549590107.180992\n",
      "rmse:  59578.43659564249\n"
     ]
    }
   ],
   "source": [
    "from sklearn.metrics import mean_squared_error,mean_absolute_error\n",
    "mae3 = mean_absolute_error(y_test2, y_pred3)\n",
    "print(\"mae: \",mae3)\n",
    "mse3 = mean_squared_error(y_test2, y_pred3)\n",
    "print(\"mse: \",mse3)\n",
    "rmse3 = mean_squared_error(y_test2, y_pred3, squared=False)\n",
    "print(\"rmse: \",rmse3)"
   ]
  },
  {
   "attachments": {},
   "cell_type": "markdown",
   "id": "3ca6ad3f",
   "metadata": {},
   "source": [
    "Burada OneHotEncoder ve PCA kullanarak DecisionTreeRegressor modelinde yaptığımız tahminlerin hata oranlarını hesapladık."
   ]
  },
  {
   "cell_type": "code",
   "execution_count": 294,
   "id": "2a92a904",
   "metadata": {},
   "outputs": [
    {
     "data": {
      "text/plain": [
       "array([148030.34738562,  26123.56666667,  78637.10702381, 148030.34738562,\n",
       "       125668.75666667,  27801.46666667, 148030.34738562,  43756.63333333,\n",
       "       176002.70482721, 148030.34738562, 148030.34738562, 112537.43333333,\n",
       "        83535.61857143, 148030.34738562, 112537.43333333,  56093.61349206,\n",
       "       148030.34738562, 148030.34738562, 107881.94444444, 148030.34738562,\n",
       "       141187.78402153, 176002.70482721, 151961.49509215,  88203.30666667,\n",
       "        76005.9       ,  82487.8852381 ,  12382.925     ,  90124.32364613,\n",
       "        44528.74674242,  82310.29025309, 148030.34738562, 117890.00569986,\n",
       "        43756.63333333,  16921.54642857, 151961.49509215, 148030.34738562,\n",
       "       148030.34738562, 148030.34738562,  82310.29025309, 148030.34738562,\n",
       "        72152.90095238,  94298.91829365, 141187.78402153, 148030.34738562,\n",
       "       148030.34738562, 183701.99990981,  82310.29025309, 117890.00569986,\n",
       "       214000.        ,  50400.38202381, 148030.34738562,  82310.29025309,\n",
       "       148030.34738562,  16921.54642857, 148030.34738562, 176002.70482721,\n",
       "        82487.8852381 , 148030.34738562, 141187.78402153, 176002.70482721,\n",
       "        90124.32364613,  61988.36175325, 148030.34738562,  84742.5       ,\n",
       "       148030.34738562,  18899.77666667, 151961.49509215,  37898.92      ,\n",
       "       107881.94444444,  90124.32364613, 148030.34738562, 148030.34738562,\n",
       "        61206.415     ,  48278.49666667, 126345.67460317, 362108.33333333,\n",
       "        61965.09396825,  55554.10952381, 148030.34738562,  97216.3       ,\n",
       "       117890.00569986,  82310.29025309, 148030.34738562, 148030.34738562,\n",
       "       151961.49509215,  83738.33333333, 148030.34738562,  46746.21666667,\n",
       "       148030.34738562,  94298.91829365,   5874.29166667, 126345.67460317,\n",
       "       176002.70482721, 151961.49509215, 148030.34738562,  51772.08666667,\n",
       "       176002.70482721, 148030.34738562,  16921.54642857, 151961.49509215,\n",
       "       148030.34738562,  59219.14166667,  20260.84989475, 148030.34738562,\n",
       "        37946.07005348,  42032.        , 123291.75520591,  51772.08666667,\n",
       "       228162.55555556,  61988.36175325,  50227.95535714, 148030.34738562,\n",
       "        62052.1       ,  46746.21666667, 176002.70482721, 148030.34738562,\n",
       "       148030.34738562, 123291.75520591, 123291.75520591, 148030.34738562,\n",
       "        41606.715     , 176002.70482721])"
      ]
     },
     "execution_count": 294,
     "metadata": {},
     "output_type": "execute_result"
    }
   ],
   "source": [
    "from sklearn.ensemble import RandomForestRegressor\n",
    "rfr2=RandomForestRegressor(n_estimators=10,random_state=0)\n",
    "rfr2.fit(X2,Y2)\n",
    "y_pred4=rfr2.predict(X_test2)\n",
    "y_pred4"
   ]
  },
  {
   "cell_type": "code",
   "execution_count": 295,
   "id": "1c93b14a",
   "metadata": {},
   "outputs": [
    {
     "name": "stdout",
     "output_type": "stream",
     "text": [
      "MAE:  32103.94166867657\n",
      "MSE:  2680924241.025453\n",
      "RMSE:  51777.64228917201\n"
     ]
    }
   ],
   "source": [
    "from sklearn.metrics import mean_absolute_error, mean_squared_error\n",
    "\n",
    "mae4=mean_absolute_error(y_test2,y_pred4)\n",
    "mse4=mean_squared_error(y_test2,y_pred4)\n",
    "rmse4 = mean_squared_error(y_test2, y_pred4, squared=False)\n",
    "print(\"MAE: \",mae4)\n",
    "print(\"MSE: \",mse4)\n",
    "print(\"RMSE: \",rmse4)"
   ]
  },
  {
   "attachments": {},
   "cell_type": "markdown",
   "id": "e5076aef",
   "metadata": {},
   "source": [
    "Burada OneHotEncoder ve PCA kullanarak RandomForestRegressor modelinde yaptığımız tahminlerin hata oranlarını hesapladık."
   ]
  },
  {
   "attachments": {},
   "cell_type": "markdown",
   "id": "13d3ae07",
   "metadata": {},
   "source": [
    "SON OLARAK\n",
    "\n",
    "Random Forest Regressor üzerinden Label Encoder kullanılmış tahmin modelindeki hata oranları ile One Hot Encoder ve PCA'nın beraber kullanıldığı tahmin modelindeki hata oranlarını karşılaştıralım."
   ]
  },
  {
   "cell_type": "code",
   "execution_count": 296,
   "id": "8c3b1dbd",
   "metadata": {},
   "outputs": [
    {
     "name": "stdout",
     "output_type": "stream",
     "text": [
      "Label Encoder uygulanmış Random Forest Regressor MAE değeri: 30721.973443780553.  OneHotEncoder ve PCA uygulanmış Random Forest Regressor MAE değeri: 32103.94166867657\n",
      "Label Encoder uygulanmış Random Forest Regressor MSE değeri: 2573384181.0894475.  OneHotEncoder ve PCA uygulanmış Random Forest Regressor MSE değeri: 2680924241.025453\n",
      "Label Encoder uygulanmış Random Forest Regressor RMSE değeri: 50728.53419023112.  OneHotEncoder ve PCA uygulanmış Random Forest Regressor RMSE değeri: 51777.64228917201\n"
     ]
    }
   ],
   "source": [
    "print(f\"Label Encoder uygulanmış Random Forest Regressor MAE değeri: {mae2}.  OneHotEncoder ve PCA uygulanmış Random Forest Regressor MAE değeri: {mae4}\")\n",
    "print(f\"Label Encoder uygulanmış Random Forest Regressor MSE değeri: {mse2}.  OneHotEncoder ve PCA uygulanmış Random Forest Regressor MSE değeri: {mse4}\")\n",
    "print(f\"Label Encoder uygulanmış Random Forest Regressor RMSE değeri: {rmse2}.  OneHotEncoder ve PCA uygulanmış Random Forest Regressor RMSE değeri: {rmse4}\")"
   ]
  },
  {
   "attachments": {},
   "cell_type": "markdown",
   "id": "1d93d3ee",
   "metadata": {},
   "source": [
    "Normal şartlarda genelleme yapacak olursak One Hot Encoder kullanmak Label Encoder kullanmaktan daha faydalıdır diyebiliriz. Ancak doğru yaklaşım, elimizdeki veri setinin özellikleri ve kullanacağımız makine öğrenme modeline bağlı olarak ikisinden birini tercih etmemizdir. Label Encoder genel anlamda kategori sayısı çok yüksek olduğunda avantajlı olmaktadır.One Hot Encoder ise kategori sayısı az ve hepsi eşit öneme sahip olduğunda tercih edilmelidir.Bizim veri setimizde ise employee_residence içinde birden çok değer barındıran ve hepsinin eşit öneme sahip olmadığı bir durum olduğu çok net gözükmektedir.Yaşanılan ülkenin gelişmişlik seviyesi gibi faktörlerden ötürü maaşı daha yüksek veya daha düşük olabilir bu yüzden eşit öneme sahip değillerdir.Ayrıca deneyim düzeyi arttıkça maaşında artması beklenilen bir şey olduğundan dolayı tüm deneyim düzeylerini eşit önem kabul etmekte doğru değildir. BU YÜZDEN;\n",
    "\n",
    "     **SADECE BU ÖRNEĞİMİZ İÇİN KONUŞACAK OLURSAK, LABEL ENCODER ONE HOT ENCODER'DAN DAHA İYİ SONUÇ VERDİ DİYEBİLİRİZ.**"
   ]
  },
  {
   "cell_type": "markdown",
   "id": "14ac6755",
   "metadata": {},
   "source": [
    "Derin Öğrenme türlerinden olan CNN RNN ve LSTM modellerinin ne olduğu ve hangi örnekler altında kullanmanın iyi olacağı hakkında hazırladığım DeepLearning projem profilimde..Burada ise bunlardan hangisi elimdeki veri setine uyar ve tahmin yapabiliriz bunu düşündüm,CNN genellikle görüntü işleme gibi görsel veriler üzerinde kullanılan bir derin öğrenme modeli olduğu için ve aynı zamanda RNN kullanmak yerine RNN'den türetilmiş daha özel olan LSTM modeliyle salary_in_usd parametresinin tahminini grafiğe dökmeyi deneyeceğim."
   ]
  },
  {
   "cell_type": "code",
   "execution_count": 297,
   "id": "36d88d7b",
   "metadata": {},
   "outputs": [
    {
     "data": {
      "text/html": [
       "<div>\n",
       "<style scoped>\n",
       "    .dataframe tbody tr th:only-of-type {\n",
       "        vertical-align: middle;\n",
       "    }\n",
       "\n",
       "    .dataframe tbody tr th {\n",
       "        vertical-align: top;\n",
       "    }\n",
       "\n",
       "    .dataframe thead th {\n",
       "        text-align: right;\n",
       "    }\n",
       "</style>\n",
       "<table border=\"1\" class=\"dataframe\">\n",
       "  <thead>\n",
       "    <tr style=\"text-align: right;\">\n",
       "      <th></th>\n",
       "      <th>work_year</th>\n",
       "      <th>experience_level</th>\n",
       "      <th>employee_residence</th>\n",
       "      <th>salary_in_usd</th>\n",
       "    </tr>\n",
       "  </thead>\n",
       "  <tbody>\n",
       "    <tr>\n",
       "      <th>0</th>\n",
       "      <td>2020</td>\n",
       "      <td>2</td>\n",
       "      <td>14</td>\n",
       "      <td>79833</td>\n",
       "    </tr>\n",
       "    <tr>\n",
       "      <th>1</th>\n",
       "      <td>2020</td>\n",
       "      <td>3</td>\n",
       "      <td>32</td>\n",
       "      <td>260000</td>\n",
       "    </tr>\n",
       "    <tr>\n",
       "      <th>2</th>\n",
       "      <td>2020</td>\n",
       "      <td>3</td>\n",
       "      <td>20</td>\n",
       "      <td>109024</td>\n",
       "    </tr>\n",
       "    <tr>\n",
       "      <th>3</th>\n",
       "      <td>2020</td>\n",
       "      <td>2</td>\n",
       "      <td>23</td>\n",
       "      <td>20000</td>\n",
       "    </tr>\n",
       "    <tr>\n",
       "      <th>4</th>\n",
       "      <td>2020</td>\n",
       "      <td>3</td>\n",
       "      <td>55</td>\n",
       "      <td>150000</td>\n",
       "    </tr>\n",
       "    <tr>\n",
       "      <th>...</th>\n",
       "      <td>...</td>\n",
       "      <td>...</td>\n",
       "      <td>...</td>\n",
       "      <td>...</td>\n",
       "    </tr>\n",
       "    <tr>\n",
       "      <th>602</th>\n",
       "      <td>2022</td>\n",
       "      <td>3</td>\n",
       "      <td>55</td>\n",
       "      <td>154000</td>\n",
       "    </tr>\n",
       "    <tr>\n",
       "      <th>603</th>\n",
       "      <td>2022</td>\n",
       "      <td>3</td>\n",
       "      <td>55</td>\n",
       "      <td>126000</td>\n",
       "    </tr>\n",
       "    <tr>\n",
       "      <th>604</th>\n",
       "      <td>2022</td>\n",
       "      <td>3</td>\n",
       "      <td>55</td>\n",
       "      <td>129000</td>\n",
       "    </tr>\n",
       "    <tr>\n",
       "      <th>605</th>\n",
       "      <td>2022</td>\n",
       "      <td>3</td>\n",
       "      <td>55</td>\n",
       "      <td>150000</td>\n",
       "    </tr>\n",
       "    <tr>\n",
       "      <th>606</th>\n",
       "      <td>2022</td>\n",
       "      <td>2</td>\n",
       "      <td>27</td>\n",
       "      <td>200000</td>\n",
       "    </tr>\n",
       "  </tbody>\n",
       "</table>\n",
       "<p>607 rows × 4 columns</p>\n",
       "</div>"
      ],
      "text/plain": [
       "     work_year  experience_level  employee_residence  salary_in_usd\n",
       "0         2020                 2                  14          79833\n",
       "1         2020                 3                  32         260000\n",
       "2         2020                 3                  20         109024\n",
       "3         2020                 2                  23          20000\n",
       "4         2020                 3                  55         150000\n",
       "..         ...               ...                 ...            ...\n",
       "602       2022                 3                  55         154000\n",
       "603       2022                 3                  55         126000\n",
       "604       2022                 3                  55         129000\n",
       "605       2022                 3                  55         150000\n",
       "606       2022                 2                  27         200000\n",
       "\n",
       "[607 rows x 4 columns]"
      ]
     },
     "execution_count": 297,
     "metadata": {},
     "output_type": "execute_result"
    }
   ],
   "source": [
    "\n",
    "df2"
   ]
  },
  {
   "cell_type": "code",
   "execution_count": 298,
   "id": "a7a8b61c",
   "metadata": {},
   "outputs": [],
   "source": [
    "from sklearn.preprocessing import MinMaxScaler\n",
    "df2=np.array(df2).reshape(-1,1)\n",
    "sc=MinMaxScaler()\n",
    "df2=sc.fit_transform(df2)\n",
    "train=df2[0:480,:]\n",
    "test=df2[480:,:]"
   ]
  },
  {
   "cell_type": "code",
   "execution_count": 299,
   "id": "4e27051b",
   "metadata": {},
   "outputs": [],
   "source": [
    "def veri(data,steps):\n",
    "    datax=[]\n",
    "    datay=[]\n",
    "    for i in range(len(data)-steps-1):\n",
    "        a=data[i:(i+steps),0]\n",
    "        datax.append(a)\n",
    "        datay.append(data[i+steps,0])\n",
    "\n",
    "    return np.array(datax),np.array(datay)"
   ]
  },
  {
   "cell_type": "code",
   "execution_count": 300,
   "id": "3b33085b",
   "metadata": {},
   "outputs": [],
   "source": [
    "steps=5\n",
    "xtrain3,ytrain3=veri(train,steps)\n",
    "xtest3,ytest3=veri(test,steps)\n",
    "\n",
    "xtrain3=np.reshape(xtrain3,(xtrain3.shape[0],1,xtrain3.shape[1]))\n",
    "xtest3=np.reshape(xtest3,(xtest3.shape[0],1,xtest3.shape[1]))"
   ]
  },
  {
   "cell_type": "code",
   "execution_count": 301,
   "id": "bd53bb03",
   "metadata": {},
   "outputs": [],
   "source": [
    "from keras.models import Sequential\n",
    "from keras.layers import Dense,LSTM\n",
    "\n",
    "model=Sequential()\n",
    "model.add(LSTM(128,input_shape=(1,steps)))\n",
    "model.add(Dense(64))\n",
    "model.add(Dense(1))\n",
    "model.compile(loss=\"mean_squared_error\",optimizer=\"adam\")\n",
    "\n"
   ]
  },
  {
   "cell_type": "code",
   "execution_count": 302,
   "id": "4045b751",
   "metadata": {},
   "outputs": [
    {
     "name": "stdout",
     "output_type": "stream",
     "text": [
      "Model: \"sequential_4\"\n",
      "_________________________________________________________________\n",
      " Layer (type)                Output Shape              Param #   \n",
      "=================================================================\n",
      " lstm_4 (LSTM)               (None, 128)               68608     \n",
      "                                                                 \n",
      " dense_8 (Dense)             (None, 64)                8256      \n",
      "                                                                 \n",
      " dense_9 (Dense)             (None, 1)                 65        \n",
      "                                                                 \n",
      "=================================================================\n",
      "Total params: 76929 (300.50 KB)\n",
      "Trainable params: 76929 (300.50 KB)\n",
      "Non-trainable params: 0 (0.00 Byte)\n",
      "_________________________________________________________________\n"
     ]
    }
   ],
   "source": [
    "model.summary()\n"
   ]
  },
  {
   "cell_type": "code",
   "execution_count": 303,
   "id": "7ef3125b",
   "metadata": {},
   "outputs": [
    {
     "name": "stdout",
     "output_type": "stream",
     "text": [
      "Epoch 1/10\n"
     ]
    },
    {
     "name": "stdout",
     "output_type": "stream",
     "text": [
      "474/474 [==============================] - 2s 1ms/step - loss: 0.0086\n",
      "Epoch 2/10\n",
      "474/474 [==============================] - 1s 1ms/step - loss: 0.0082\n",
      "Epoch 3/10\n",
      "474/474 [==============================] - 1s 1ms/step - loss: 0.0079\n",
      "Epoch 4/10\n",
      "474/474 [==============================] - 1s 1ms/step - loss: 0.0080\n",
      "Epoch 5/10\n",
      "474/474 [==============================] - 1s 2ms/step - loss: 0.0078\n",
      "Epoch 6/10\n",
      "474/474 [==============================] - 1s 2ms/step - loss: 0.0077\n",
      "Epoch 7/10\n",
      "474/474 [==============================] - 1s 1ms/step - loss: 0.0077\n",
      "Epoch 8/10\n",
      "474/474 [==============================] - 1s 2ms/step - loss: 0.0075\n",
      "Epoch 9/10\n",
      "474/474 [==============================] - 1s 2ms/step - loss: 0.0077\n",
      "Epoch 10/10\n",
      "474/474 [==============================] - 1s 2ms/step - loss: 0.0075\n"
     ]
    },
    {
     "data": {
      "text/plain": [
       "<keras.src.callbacks.History at 0x22e4b34ac80>"
      ]
     },
     "execution_count": 303,
     "metadata": {},
     "output_type": "execute_result"
    }
   ],
   "source": [
    "# xtrain3 = xtrain3.astype('int32')\n",
    "# ytrain = ytrain3.astype('int32')\n",
    "\n",
    "model.fit(xtrain3,ytrain3,epochs=10,batch_size=1)\n"
   ]
  },
  {
   "cell_type": "code",
   "execution_count": 304,
   "id": "59f792b2",
   "metadata": {},
   "outputs": [
    {
     "name": "stdout",
     "output_type": "stream",
     "text": [
      "61/61 [==============================] - 0s 1ms/step\n"
     ]
    },
    {
     "data": {
      "image/png": "[encoded data removed]",
      "text/plain": [
       "<Figure size 640x480 with 1 Axes>"
      ]
     },
     "metadata": {},
     "output_type": "display_data"
    },
    {
     "data": {
      "text/plain": [
       "<Figure size 640x480 with 0 Axes>"
      ]
     },
     "metadata": {},
     "output_type": "display_data"
    }
   ],
   "source": [
    "ypred3=model.predict(xtest3)\n",
    "# print(ytest3.shape)\n",
    "\n",
    "ypred3=sc.inverse_transform(ypred3.reshape(-1,1))\n",
    "ytest3=sc.inverse_transform(ytest3.reshape(-1,1))\n",
    "# print(ytest3)\n",
    "# print(ypred3)\n",
    "plt.plot(ypred3,label=\"tahmini değerler\")\n",
    "plt.plot(ytest3,label=\"gerçek değerler\")\n",
    "plt.figure()\n",
    "plt.show()"
   ]
  },
  {
   "cell_type": "markdown",
   "id": "bf857963",
   "metadata": {},
   "source": [
    "LSTM modelininde bu veri setine çok uygun olmadığı,diğer projemle kıyasladığımızda bariz gözükmektedir.. CNN,RNN ve LSTM gibi derin öğrenme modellerini, kendilerine daha uygun başka veri setleriyle kıyasladığım projelerde görüşmek üzere. :)"
   ]
  }
 ],
 "metadata": {
  "kernelspec": {
   "display_name": "Python 3 (ipykernel)",
   "language": "python",
   "name": "python3"
  },
  "language_info": {
   "codemirror_mode": {
    "name": "ipython",
    "version": 3
   },
   "file_extension": ".py",
   "mimetype": "text/x-python",
   "name": "python",
   "nbconvert_exporter": "python",
   "pygments_lexer": "ipython3",
   "version": "3.10.9"
  }
 },
 "nbformat": 4,
 "nbformat_minor": 5
}
